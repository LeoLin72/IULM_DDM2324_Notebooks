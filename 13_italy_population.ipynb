{
 "cells": [
  {
   "cell_type": "markdown",
   "metadata": {},
   "source": [
    "[![Open In Colab](https://colab.research.google.com/assets/colab-badge.svg)](https://colab.research.google.com/github/alesaccoia/IULM_DDM2324_Notebooks/blob/main/13_italy_population.ipynb)"
   ]
  },
  {
   "cell_type": "code",
   "execution_count": null,
   "metadata": {},
   "outputs": [],
   "source": [
    "import pandas as pd\n",
    "\n",
    "# a.1\n",
    "# Carica il foglio \"Raw Data\" dal file fornito\n",
    "df = pd.read_excel(\"data/italy_population_administrative_layers.xlsx\", sheet_name=\"Raw Data\")\n",
    "\n",
    "# Mostra le prime righe del dataset per comprendere la struttura dei dati\n",
    "# a.2\n",
    "df.head()\n"
   ]
  },
  {
   "cell_type": "code",
   "execution_count": null,
   "metadata": {},
   "outputs": [],
   "source": [
    "#a.3\n",
    "df = df[df['Eta'] != 999]\n"
   ]
  },
  {
   "cell_type": "code",
   "execution_count": null,
   "metadata": {},
   "outputs": [],
   "source": [
    "# b.1\n",
    "num_comuni = df['A_ID_3'].nunique()\n",
    "print(f\"Sono presenti {num_comuni} codici comune unici\")\n",
    "\n",
    "# b.2\n",
    "total_males = df['Totale Maschi'].sum()\n",
    "total_females = df['Totale Femmine'].sum()\n",
    "print(f\"Il numero totale di maschi in Italia é {total_males}\")\n",
    "print(f\"Il numero totale di femmine in Italia é {total_females}\")\n"
   ]
  },
  {
   "cell_type": "code",
   "execution_count": null,
   "metadata": {},
   "outputs": [],
   "source": [
    "# b.3\n",
    "grouped = df.groupby(['A_ID_2', 'A_LBL_2', 'A_ID_3', 'A_LBL_3'])['Totale'].sum()\n",
    "highest_population_comune = grouped.idxmax()\n",
    "lowest_population_comune = grouped.idxmin()\n",
    "\n",
    "\n",
    "highest_population_value = grouped[highest_population_comune]\n",
    "lowest_population_value = grouped[lowest_population_comune]\n",
    "\n",
    "print(f\"Il comune più popoloso in Italia è {highest_population_comune} con una popolazione di {highest_population_value}\")\n",
    "print(f\"Il comune meno popoloso in Italia è {lowest_population_comune} con una popolazione di {lowest_population_value}\")\n",
    "\n"
   ]
  },
  {
   "cell_type": "code",
   "execution_count": null,
   "metadata": {},
   "outputs": [],
   "source": [
    "# c.2\n",
    "import matplotlib.pyplot as plt\n",
    "\n",
    "# Raggruppiamo per 'Eta' e sommiamo i valori per 'Totale Maschi' e 'Totale Femmine'\n",
    "grouped_by_age = df.groupby('Eta').agg({'Totale Maschi': 'sum', 'Totale Femmine': 'sum'}).reset_index()\n",
    "\n",
    "# Creiamo il grafico a linee\n",
    "plt.figure(figsize=(12, 6))\n",
    "plt.plot(grouped_by_age['Eta'], grouped_by_age['Totale Maschi'], label='Maschi', color='blue')\n",
    "plt.plot(grouped_by_age['Eta'], grouped_by_age['Totale Femmine'], label='Femmine', color='red')\n",
    "plt.xlabel('Età')\n",
    "plt.ylabel('Popolazione')\n",
    "plt.title('Popolazione maschile e femminile per età in Italia')\n",
    "plt.legend()\n",
    "plt.grid(True)\n",
    "plt.tight_layout()\n",
    "plt.show()"
   ]
  },
  {
   "cell_type": "code",
   "execution_count": null,
   "metadata": {},
   "outputs": [],
   "source": [
    "# c.3\n",
    "max_males_age = grouped_by_age['Totale Maschi'].idxmax()\n",
    "max_females_age = grouped_by_age['Totale Femmine'].idxmax()\n",
    "\n",
    "max_males_age, max_females_age\n"
   ]
  },
  {
   "cell_type": "code",
   "execution_count": null,
   "metadata": {},
   "outputs": [],
   "source": [
    "# Supponendo l'esistenza del DataFrame df\n",
    "\n",
    "# Calcola la popolazione totale per ogni regione\n",
    "total_population_by_region = df.groupby('A_LBL_1')['Totale'].sum()\n",
    "\n",
    "# Calcola la popolazione degli anziani (età > 65) per ogni regione\n",
    "elderly_population_by_region = df[df['Eta'] > 65].groupby('A_LBL_1')['Totale'].sum()\n",
    "\n",
    "# Calcola la proporzione del numero di anziani rispetto al totale della popolazione per ogni regione\n",
    "proportion_elderly_by_region = elderly_population_by_region / total_population_by_region\n",
    "\n",
    "proportion_elderly_by_region.sort_values(ascending=False)\n"
   ]
  },
  {
   "cell_type": "markdown",
   "metadata": {},
   "source": [
    "# Calcola l'età media pesata per ciascuna regione (esercizio 3 capitolo 4)"
   ]
  },
  {
   "cell_type": "code",
   "execution_count": null,
   "metadata": {},
   "outputs": [],
   "source": [
    "# Moltiplica l'età per la popolazione totale per ottenere il peso totale per ogni età\n",
    "df['weighted_age'] = df['Eta'] * df['Totale']\n",
    "\n",
    "# Calcola la somma dei pesi e la popolazione totale per ciascuna regione\n",
    "sum_weights = df.groupby('A_LBL_1')['weighted_age'].sum()\n",
    "sum_population = df.groupby('A_LBL_1')['Totale'].sum()\n",
    "\n",
    "# Calcola l'età media pesata dividendo la somma dei pesi per la popolazione totale\n",
    "average_weighted_age = sum_weights / sum_population\n",
    "average_weighted_age.sort_values(ascending=False)\n"
   ]
  },
  {
   "cell_type": "code",
   "execution_count": null,
   "metadata": {},
   "outputs": [],
   "source": [
    "import scipy.stats as stats\n",
    "\n",
    "# Crea una lista di età per ciascuna regione\n",
    "ages_by_region = [df['weighted_age'][df['A_LBL_1'] == region] for region in df['A_LBL_1'].unique()]\n",
    "\n",
    "# Esegui il test ANOVA\n",
    "f_statistic, p_value = stats.f_oneway(*ages_by_region)\n",
    "\n",
    "print(f\"F statistic: {f_statistic}\")\n",
    "print(f\"P-value: {p_value}\")\n"
   ]
  }
 ],
 "metadata": {
  "kernelspec": {
   "display_name": "Python 3",
   "language": "python",
   "name": "python3"
  },
  "language_info": {
   "codemirror_mode": {
    "name": "ipython",
    "version": 3
   },
   "file_extension": ".py",
   "mimetype": "text/x-python",
   "name": "python",
   "nbconvert_exporter": "python",
   "pygments_lexer": "ipython3",
   "version": "3.9.17"
  }
 },
 "nbformat": 4,
 "nbformat_minor": 2
}
