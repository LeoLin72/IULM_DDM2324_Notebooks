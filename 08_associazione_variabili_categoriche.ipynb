{
 "cells": [
  {
   "cell_type": "markdown",
   "metadata": {},
   "source": [
    "# Misurare l'associazione fra variabili categoriche"
   ]
  },
  {
   "cell_type": "code",
   "execution_count": null,
   "metadata": {},
   "outputs": [],
   "source": [
    "import pandas as pd\n",
    "import numpy as np\n",
    "from scipy.stats import chi2_contingency\n",
    "from scipy.stats.contingency import margins\n",
    "\n",
    "# Carico i dati dal file Excel, specificando quale worksheet\n",
    "df = pd.read_excel('data/chisquare_preferenza_genere_prodotto.xlsx', sheet_name=\"Data\")\n"
   ]
  },
  {
   "cell_type": "markdown",
   "metadata": {},
   "source": [
    "## Tabella di contingenza"
   ]
  },
  {
   "cell_type": "code",
   "execution_count": null,
   "metadata": {},
   "outputs": [],
   "source": [
    "# Tabelle di contingenza:\n",
    "contingency_table = pd.crosstab(df['gender'], df['productid'], margins=True, margins_name=\"Totale\")\n",
    "print(contingency_table)"
   ]
  },
  {
   "cell_type": "markdown",
   "metadata": {},
   "source": [
    "## Probabilità Marginale\n",
    "È la probabilità di un singolo evento senza considerare l'effetto di un altro evento. Si tratta essenzialmente della probabilità \"a margine\" di un evento particolare, quindi senza condizionarlo su un altro. \n",
    "Ad esempio, considera una tabella di contingenza tra Genere (Maschio/Femmina) e Prodotto (1/2/3). La probabilità marginale che una persona scelta a caso sia un maschio (indipendentemente dal fatto che fumi o meno) si calcola sommando tutte le osservazioni dei maschi e dividendo per il totale delle osservazioni."
   ]
  },
  {
   "cell_type": "code",
   "execution_count": null,
   "metadata": {},
   "outputs": [],
   "source": [
    "# Probabilità marginale:\n",
    "prob_gender = df['gender'].value_counts() / len(df)\n",
    "prob_productid = df['productid'].value_counts() / len(df)\n",
    "print(\"\\nProbabilità marginale di genere:\\n\", prob_gender)\n",
    "print(\"\\nProbabilità marginale di prodotto scelto:\\n\", prob_productid)"
   ]
  },
  {
   "cell_type": "markdown",
   "metadata": {},
   "source": [
    "# Test del chi-quadrato"
   ]
  },
  {
   "cell_type": "code",
   "execution_count": null,
   "metadata": {},
   "outputs": [],
   "source": [
    "# Test chi square: utilizzo i -1 per non prendere l'ultima riga e l'ultima colonna\n",
    "chi2, p, _, expected = chi2_contingency(contingency_table.iloc[:-1, :-1])\n",
    "\n",
    "print(\"\\nValore chi2:\", chi2)\n",
    "print(\"P-value:\", p)\n",
    "print(\"\\nTabella delle frequenze attese:\\n\", pd.DataFrame(expected, columns=contingency_table.columns[:-1], index=contingency_table.index[:-1]))\n"
   ]
  },
  {
   "cell_type": "markdown",
   "metadata": {},
   "source": [
    "## Residual analysis"
   ]
  },
  {
   "cell_type": "code",
   "execution_count": null,
   "metadata": {},
   "outputs": [],
   "source": [
    "def stdres(observed, expected):\n",
    "    n = observed.sum()\n",
    "    rsum, csum = margins(observed)\n",
    "    # With integers, the calculation\n",
    "    #     csum * rsum * (n - rsum) * (n - csum)\n",
    "    # might overflow, so convert rsum and csum to floating point.\n",
    "    rsum = rsum.astype(np.float64)\n",
    "    csum = csum.astype(np.float64)\n",
    "    v = csum * rsum * (n - rsum) * (n - csum) / n**3\n",
    "    return (observed - expected) / np.sqrt(v)\n",
    "\n",
    "residuals = stdres(contingency_table.iloc[:-1, :-1].values, expected)\n",
    "print(\"\\nStandardized Residuals:\\n\", residuals)"
   ]
  }
 ],
 "metadata": {
  "kernelspec": {
   "display_name": "Python 3",
   "language": "python",
   "name": "python3"
  },
  "language_info": {
   "codemirror_mode": {
    "name": "ipython",
    "version": 3
   },
   "file_extension": ".py",
   "mimetype": "text/x-python",
   "name": "python",
   "nbconvert_exporter": "python",
   "pygments_lexer": "ipython3",
   "version": "3.9.17"
  },
  "orig_nbformat": 4
 },
 "nbformat": 4,
 "nbformat_minor": 2
}
