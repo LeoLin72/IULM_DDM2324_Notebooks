{
 "cells": [
  {
   "cell_type": "markdown",
   "metadata": {},
   "source": [
    "# Statistica descrittiva in Python\n",
    "\n",
    "Iniziamo con l'installazione e l'importazione delle librerie necessarie"
   ]
  },
  {
   "cell_type": "code",
   "execution_count": null,
   "metadata": {},
   "outputs": [],
   "source": [
    "!pip install numpy pandas matplotlib\n",
    "\n",
    "import numpy as np\n",
    "import pandas as pd\n",
    "import matplotlib.pyplot as plt\n"
   ]
  },
  {
   "cell_type": "markdown",
   "metadata": {},
   "source": [
    "# Campionamento e Misurazione\n",
    "Per iniziare, supponiamo di avere dati sulla popolazione italiana relativa agli stipendi (espressi in migliaia di euro). Creeremo un set di dati simulato con 50.000 persone."
   ]
  },
  {
   "cell_type": "code",
   "execution_count": null,
   "metadata": {},
   "outputs": [],
   "source": [
    "# Creazione del dataset della popolazione\n",
    "np.random.seed(42)  # per riproducibilità\n",
    "popolazione = pd.DataFrame({\n",
    "    \"Stipendio\": np.random.normal(30, 5, 50000)  # media €30k, deviazione standard €5k\n",
    "})\n"
   ]
  },
  {
   "cell_type": "markdown",
   "metadata": {},
   "source": [
    "Estraiamo un campione casuale di 1000 persone da questa popolazione."
   ]
  },
  {
   "cell_type": "code",
   "execution_count": null,
   "metadata": {},
   "outputs": [],
   "source": [
    "campione = popolazione.sample(1000)\n"
   ]
  },
  {
   "cell_type": "markdown",
   "metadata": {},
   "source": [
    "## Funzioni utili\n",
    "La funzione \"describe\" ci permette di ottenere informazioni (momenti statistici) circa le variabili numeriche del dataframe"
   ]
  },
  {
   "cell_type": "code",
   "execution_count": null,
   "metadata": {},
   "outputs": [],
   "source": [
    "campione.describe()"
   ]
  },
  {
   "cell_type": "markdown",
   "metadata": {},
   "source": [
    "La funzione info invece ci dice informazioni sulla struttura del dataframe in sé"
   ]
  },
  {
   "cell_type": "code",
   "execution_count": null,
   "metadata": {},
   "outputs": [],
   "source": [
    "campione.info()"
   ]
  },
  {
   "cell_type": "markdown",
   "metadata": {},
   "source": [
    "## Variabili, Parametri e Statistiche\n",
    "Calcoliamo media e deviazione standard per la popolazione e per il campione."
   ]
  },
  {
   "cell_type": "code",
   "execution_count": null,
   "metadata": {},
   "outputs": [],
   "source": [
    "media_popolazione = popolazione['Stipendio'].mean()\n",
    "std_popolazione = popolazione['Stipendio'].std()\n",
    "\n",
    "media_campione = campione['Stipendio'].mean()\n",
    "std_campione = campione['Stipendio'].std()\n"
   ]
  },
  {
   "cell_type": "markdown",
   "metadata": {},
   "source": [
    "## Distribuzione di Frequenze\n",
    "\n",
    "### Variabili Categoriche\n",
    "Supponiamo che la popolazione abbia anche una variabile categorica: \"Stato Civile\". Generiamo dei dati simulati."
   ]
  },
  {
   "cell_type": "code",
   "execution_count": null,
   "metadata": {},
   "outputs": [],
   "source": [
    "stati_civili = [\"Single\", \"Sposato/a\", \"Divorziato/a\", \"Vedovo/a\"]\n",
    "popolazione[\"Stato Civile\"] = np.random.choice(stati_civili, size=50000, p=[0.4, 0.4, 0.1, 0.1])\n",
    "\n",
    "# Estraiamo lo stato civile per il nostro campione\n",
    "campione = popolazione.sample(1000)\n",
    "\n",
    "# Calcoliamo la distribuzione di frequenza per il campione\n",
    "frequenza_stato_civile = campione[\"Stato Civile\"].value_counts()\n",
    "percentuale_stato_civile = campione[\"Stato Civile\"].value_counts(normalize=True) * 100\n"
   ]
  },
  {
   "cell_type": "markdown",
   "metadata": {},
   "source": [
    "### Variabili Numeriche\n",
    "Creiamo un istogramma per gli stipendi del nostro campione."
   ]
  },
  {
   "cell_type": "code",
   "execution_count": null,
   "metadata": {},
   "outputs": [],
   "source": [
    "campione[\"Stipendio\"].hist(bins=50, edgecolor=\"k\")\n",
    "plt.xlabel(\"Stipendio (in migliaia di euro)\")\n",
    "plt.ylabel(\"Numero di Persone\")\n",
    "plt.title(\"Distribuzione degli Stipendi nel Campione\")\n",
    "plt.grid(False)\n",
    "plt.show()\n"
   ]
  },
  {
   "cell_type": "markdown",
   "metadata": {},
   "source": [
    "# Misure di Tendenza Centrale e Dispersione\n",
    "\n",
    "Calcoliamo media, mediana, moda, gamma, varianza e deviazione standard per gli stipendi nel nostro campione."
   ]
  },
  {
   "cell_type": "code",
   "execution_count": null,
   "metadata": {},
   "outputs": [],
   "source": [
    "media = campione[\"Stipendio\"].mean()\n",
    "mediana = campione[\"Stipendio\"].median()\n",
    "moda = campione[\"Stipendio\"].mode()[0]  # prendiamo il primo valore in caso ci siano più mode\n",
    "gamma = campione[\"Stipendio\"].max() - campione[\"Stipendio\"].min()\n",
    "varianza = campione[\"Stipendio\"].var()\n",
    "dev_standard = campione[\"Stipendio\"].std()"
   ]
  },
  {
   "cell_type": "markdown",
   "metadata": {},
   "source": [
    "# Regola Empirica\n",
    "\n",
    "Utilizzando la regola empirica per una distribuzione normale:"
   ]
  },
  {
   "cell_type": "code",
   "execution_count": null,
   "metadata": {},
   "outputs": [],
   "source": [
    "# Calcolo degli intervalli\n",
    "one_std_right = media + (1 * dev_standard)\n",
    "one_std_left = media - (1 * dev_standard)\n",
    "two_std_right = media + (2 * dev_standard)\n",
    "two_std_left = media - (2 * dev_standard)\n",
    "three_std_right = media + (3 * dev_standard)\n",
    "three_std_left = media - (3 * dev_standard)\n",
    "\n",
    "# Calcolo delle percentuali di dati entro ciascun intervallo\n",
    "within_one_std = campione[\"Stipendio\"].apply(lambda x: one_std_left < x < one_std_right).mean()\n",
    "within_two_std = campione[\"Stipendio\"].apply(lambda x: two_std_left < x < two_std_right).mean()\n",
    "within_three_std = campione[\"Stipendio\"].apply(lambda x: three_std_left < x < three_std_right).mean()\n"
   ]
  }
 ],
 "metadata": {
  "kernelspec": {
   "display_name": "Python 3",
   "language": "python",
   "name": "python3"
  },
  "language_info": {
   "codemirror_mode": {
    "name": "ipython",
    "version": 3
   },
   "file_extension": ".py",
   "mimetype": "text/x-python",
   "name": "python",
   "nbconvert_exporter": "python",
   "pygments_lexer": "ipython3",
   "version": "3.9.17"
  },
  "orig_nbformat": 4
 },
 "nbformat": 4,
 "nbformat_minor": 2
}
