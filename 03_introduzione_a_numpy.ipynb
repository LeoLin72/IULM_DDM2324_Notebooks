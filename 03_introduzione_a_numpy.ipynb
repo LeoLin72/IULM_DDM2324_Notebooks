{
 "cells": [
  {
   "cell_type": "markdown",
   "metadata": {},
   "source": [
    "[![Open In Colab](https://colab.research.google.com/assets/colab-badge.svg)](https://colab.research.google.com/github/alesaccoia/IULM_DDM2324_Notebooks/blob/main/03_introduzione_a_numpy.ipynb)"
   ]
  },
  {
   "cell_type": "markdown",
   "metadata": {},
   "source": [
    "# Introduzione a Numpy\n",
    "numpy è una delle librerie più fondamentali per la computazione scientifica in Python. Offre supporto per array (inclusi array multidimensionali), oltre a una vasta gamma di funzioni matematiche per operare su questi array. Con numpy, diventa facile e veloce effettuare operazioni come addizioni, moltiplicazioni e trasformazioni su grandi quantità di dati.\n",
    "\n",
    "##Installazione e Importazione\n",
    "Prima di utilizzare numpy, è necessario installarlo:"
   ]
  },
  {
   "cell_type": "code",
   "execution_count": null,
   "metadata": {},
   "outputs": [],
   "source": [
    "!pip install numpy"
   ]
  },
  {
   "cell_type": "markdown",
   "metadata": {},
   "source": [
    "Una volta installato, puoi importarlo nel tuo script o notebook:"
   ]
  },
  {
   "cell_type": "code",
   "execution_count": null,
   "metadata": {},
   "outputs": [],
   "source": [
    "import numpy as np"
   ]
  },
  {
   "cell_type": "markdown",
   "metadata": {},
   "source": [
    "Qui, np è un alias comune utilizzato per numpy.\n",
    "\n",
    "## Creazione di Array\n",
    "Un array è una collezione di elementi, tutti dello stesso tipo, indicizzati da una tupla di interi non negativi. Ecco come puoi creare array usando numpy:"
   ]
  },
  {
   "cell_type": "code",
   "execution_count": null,
   "metadata": {},
   "outputs": [],
   "source": [
    "# Array monodimensionale\n",
    "array_1d = np.array([1, 2, 3, 4])\n",
    "print(array_1d)\n",
    "\n",
    "# Array bidimensionale (matrice)\n",
    "array_2d = np.array([[1, 2], [3, 4], [5, 6]])\n",
    "print(array_2d)"
   ]
  },
  {
   "cell_type": "markdown",
   "metadata": {},
   "source": [
    "## Operazioni Matematiche\n",
    "Con numpy, puoi eseguire operazioni elemento per elemento sugli array, come addizione, sottrazione, moltiplicazione e divisione:"
   ]
  },
  {
   "cell_type": "code",
   "execution_count": null,
   "metadata": {},
   "outputs": [],
   "source": [
    "a = np.array([1, 2, 3])\n",
    "b = np.array([4, 5, 6])\n",
    "\n",
    "somma = a + b\n",
    "print(\"Somma:\", somma)\n",
    "\n",
    "prodotto = a * b\n",
    "print(\"Prodotto:\", prodotto)\n"
   ]
  },
  {
   "cell_type": "markdown",
   "metadata": {},
   "source": [
    "## Funzioni Utili\n",
    "numpy offre molte funzioni utili per operazioni matematiche, statistiche e di trasformazione. Alcuni esempi:"
   ]
  },
  {
   "cell_type": "code",
   "execution_count": null,
   "metadata": {},
   "outputs": [],
   "source": [
    "array = np.array([1, 2, 3, 4, 5])\n",
    "\n",
    "# Media\n",
    "print(\"Media:\", np.mean(array))\n",
    "\n",
    "# Mediana\n",
    "print(\"Mediana:\", np.median(array))\n",
    "\n",
    "# Riformattazione\n",
    "matrice = array.reshape(5, 1)\n",
    "print(\"Matrice riformattata:\\n\", matrice)\n"
   ]
  },
  {
   "cell_type": "markdown",
   "metadata": {},
   "source": [
    "## Tipi di Dato in Numpy\n"
   ]
  },
  {
   "cell_type": "code",
   "execution_count": null,
   "metadata": {},
   "outputs": [],
   "source": [
    "# Creazione di un array di interi\n",
    "a = np.array([1, 2, 3], dtype='int32')\n",
    "print(a)\n",
    "\n",
    "# Creazione di un array di float\n",
    "b = np.array([1.5, 2.5, 3.5], dtype='float64')\n",
    "print(b)\n",
    "\n",
    "# Creazione di un array di booleani\n",
    "c = np.array([True, False, True], dtype='bool')\n",
    "print(c)"
   ]
  },
  {
   "cell_type": "markdown",
   "metadata": {},
   "source": [
    "È importante notare che, mentre in Python standard la dimensione dei tipi int e float può variare a seconda della piattaforma, in numpy la dimensione dei tipi è sempre fissa, indipendentemente dalla piattaforma. Questo garantisce che i dati siano rappresentati in modo uniforme attraverso diverse piattaforme, rendendo numpy ideale per la computazione scientifica e la manipolazione di dati."
   ]
  },
  {
   "cell_type": "markdown",
   "metadata": {},
   "source": [
    "## Accesso ai Dati e Relazione tra Numpy e Liste Python\n",
    "In numpy, l'accesso ai dati negli array avviene tramite indici, proprio come nelle liste Python. Tuttavia, gli array di numpy forniscono molta più flessibilità rispetto alle liste native, in particolare quando si tratta di array multidimensionali.\n",
    "\n",
    "### Accesso ai Dati tramite Indici in Numpy:\n",
    "\n",
    "Un array unidimensionale si comporta in modo molto simile a una lista standard:"
   ]
  },
  {
   "cell_type": "code",
   "execution_count": null,
   "metadata": {},
   "outputs": [],
   "source": [
    "arr = np.array([1, 2, 3, 4, 5])\n",
    "print(arr[0])   # Stampa \"1\"\n",
    "print(arr[-1])  # Stampa \"5\", gli indici negativi partono dall'ultimo elemento a ritroso"
   ]
  },
  {
   "cell_type": "markdown",
   "metadata": {},
   "source": [
    "Ma la vera potenza di numpy emerge quando si lavora con array multidimensionali:"
   ]
  },
  {
   "cell_type": "code",
   "execution_count": null,
   "metadata": {},
   "outputs": [],
   "source": [
    "matrix = np.array([[1, 2, 3], [4, 5, 6], [7, 8, 9]])\n",
    "print(matrix[1, 2])  # Stampa \"6\" (seconda riga, terza colonna)\n"
   ]
  },
  {
   "cell_type": "markdown",
   "metadata": {},
   "source": [
    "Inoltre, numpy offre potenti funzionalità di slicing che permettono di accedere a sottosezioni dell'array:"
   ]
  },
  {
   "cell_type": "code",
   "execution_count": null,
   "metadata": {},
   "outputs": [],
   "source": [
    "print(matrix[1, :])  # Stampa \"[4 5 6]\", ovvero la seconda riga completa\n"
   ]
  },
  {
   "cell_type": "markdown",
   "metadata": {},
   "source": [
    "## Numpy vs Liste Python\n",
    "\n",
    "Sebbene gli array di numpy possano sembrare simili alle liste Python in superficie, ci sono alcune differenze chiave:\n",
    "\n",
    "- Omotipia: Mentre una lista Python può contenere oggetti di tipo misto, un array numpy è omogeneo; tutti gli elementi devono essere dello stesso tipo.\n",
    "- Efficienza: Gli array di numpy sono più efficienti dal punto di vista della memoria e offrono prestazioni migliori per operazioni numeriche rispetto alle liste Python.\n",
    "- Funzionalità: numpy fornisce una vasta gamma di funzioni matematiche e statistiche che possono essere eseguite direttamente sugli array.\n",
    "- Dimensionalità: Mentre una lista Python è essenzialmente un array unidimensionale, numpy può gestire array multidimensionali. Questo lo rende particolarmente utile per operazioni come la manipolazione di matrici.\n",
    "\n",
    "In sintesi, mentre le liste Python sono utili per una vasta gamma di compiti generali, gli array di numpy sono ottimizzati per operazioni numeriche e matriciali ad alte prestazioni."
   ]
  },
  {
   "cell_type": "markdown",
   "metadata": {},
   "source": [
    "## Accesso alla Forma dell'Array con shape\n",
    "La proprietà 'shape' di un array numpy fornisce una tupla che rappresenta la dimensione di ciascun asse dell'array. È uno degli attributi più utili perché permette di comprendere immediatamente la \"forma\" dell'array, cioè quante righe, colonne o altre dimensioni contiene.\n",
    "\n",
    "### Esempio con un Array Unidimensionale"
   ]
  },
  {
   "cell_type": "code",
   "execution_count": null,
   "metadata": {},
   "outputs": [],
   "source": [
    "arr = np.array([1, 2, 3, 4, 5])\n",
    "print(arr.shape)  # Stampa \"(5,)\", indicando che l'array ha 5 elementi lungo il suo unico asse."
   ]
  },
  {
   "cell_type": "markdown",
   "metadata": {},
   "source": [
    "### Esempio con un Array Bidimensionale (Matrice)"
   ]
  },
  {
   "cell_type": "code",
   "execution_count": null,
   "metadata": {},
   "outputs": [],
   "source": [
    "matrix = np.array([[1, 2, 3], [4, 5, 6], [7, 8, 9]])\n",
    "print(matrix.shape)  # Stampa \"(3, 3)\", indicando che la matrice ha 3 righe e 3 colonne.\n"
   ]
  },
  {
   "cell_type": "markdown",
   "metadata": {},
   "source": [
    "La proprietà shape è particolarmente utile quando si lavora con dataset di grandi dimensioni o con array di forme complesse, poiché fornisce una chiara indicazione di come sono strutturati i dati."
   ]
  }
 ],
 "metadata": {
  "kernelspec": {
   "display_name": "Python 3",
   "language": "python",
   "name": "python3"
  },
  "language_info": {
   "codemirror_mode": {
    "name": "ipython",
    "version": 3
   },
   "file_extension": ".py",
   "mimetype": "text/x-python",
   "name": "python",
   "nbconvert_exporter": "python",
   "pygments_lexer": "ipython3",
   "version": "3.9.17"
  },
  "orig_nbformat": 4
 },
 "nbformat": 4,
 "nbformat_minor": 2
}
