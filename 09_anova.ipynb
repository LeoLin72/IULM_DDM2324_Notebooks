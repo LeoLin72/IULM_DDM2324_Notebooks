{
 "cells": [
  {
   "cell_type": "markdown",
   "metadata": {},
   "source": [
    "[![Open In Colab](https://colab.research.google.com/assets/colab-badge.svg)](https://colab.research.google.com/github/alesaccoia/IULM_DDM2324_Notebooks/blob/main/09_anova.ipynb)"
   ]
  },
  {
   "cell_type": "markdown",
   "metadata": {},
   "source": [
    "# Esempio di Analysis Of Variance per l'associazione tra variabili categoriche e numeriche\n",
    "L'analisi ANOVA (Analysis of Variance) è un test statistico che confronta le medie di più gruppi per vedere se esistono differenze significative tra di essi. \n",
    "\n",
    "In questo esempio, basato su variabili sociodemografiche, vogliamo capire se le età delle persone nel nostro CRM cambi a seconda della loro provenienza geografica.\n"
   ]
  },
  {
   "cell_type": "markdown",
   "metadata": {},
   "source": [
    "## Importazione del dataset"
   ]
  },
  {
   "cell_type": "code",
   "execution_count": null,
   "metadata": {},
   "outputs": [],
   "source": [
    "import pandas as pd\n",
    "import numpy as np\n",
    "import random\n",
    "from scipy import stats\n",
    "\n",
    "\n",
    "df = pd.read_excel('data/esempio_anova.xlsx')\n",
    "df\n"
   ]
  },
  {
   "cell_type": "markdown",
   "metadata": {},
   "source": [
    "# Raggruppamento in base alla provenienza\n"
   ]
  },
  {
   "cell_type": "code",
   "execution_count": null,
   "metadata": {},
   "outputs": [],
   "source": [
    "# prima di tutto guardiamo le medie, per provenienza\n",
    "df.groupby('Provenienza').mean('Età')"
   ]
  },
  {
   "cell_type": "code",
   "execution_count": null,
   "metadata": {},
   "outputs": [],
   "source": [
    "\n",
    "\n",
    "# L'analisi dell'ANOVA: la funzione scipy \"stats.f_oneway\" richiede che si passino N argomenti, quindi dobbiamo salvare una \"lista di liste\"\n",
    "grouped_data = [group['Età'] for name, group in df.groupby('Provenienza')]\n",
    "print(f\"Il tipo di dato di grouped_data é {type(grouped_data)}\")\n",
    "print(f\"grouped_data é composta da {len(grouped_data)} elementi\")\n",
    "\n",
    "for i, g in enumerate(grouped_data):\n",
    "    print(f\"L'elemento grouped_data[{i}] é di tipo {type(g)} e ha lunghezza {len(g)} \")\n",
    "\n"
   ]
  },
  {
   "cell_type": "markdown",
   "metadata": {},
   "source": [
    "## Esecuzione dell'ANOVA per confrontare le età tra i gruppi\n"
   ]
  },
  {
   "cell_type": "code",
   "execution_count": null,
   "metadata": {},
   "outputs": [],
   "source": [
    "f_statistic, p_value = stats.f_oneway(*grouped_data) # notare l'unpacking della lista, senza l'asterisco staremmo passando un solo elemento!"
   ]
  },
  {
   "cell_type": "code",
   "execution_count": null,
   "metadata": {},
   "outputs": [],
   "source": [
    "# Interpretazione dei risultati\n",
    "alpha = 0.05\n",
    "print(f'Statistica F: {f_statistic}')\n",
    "print(f'Valore p: {p_value}')\n",
    "if p_value < alpha:\n",
    "    print(\"Ci sono differenze significative tra le età in base alla provenienza.\")\n",
    "else:\n",
    "    print(\"Non ci sono differenze significative tra le età in base alla provenienza.\")"
   ]
  }
 ],
 "metadata": {
  "kernelspec": {
   "display_name": "Python 3",
   "language": "python",
   "name": "python3"
  },
  "language_info": {
   "codemirror_mode": {
    "name": "ipython",
    "version": 3
   },
   "file_extension": ".py",
   "mimetype": "text/x-python",
   "name": "python",
   "nbconvert_exporter": "python",
   "pygments_lexer": "ipython3",
   "version": "3.9.17"
  },
  "orig_nbformat": 4
 },
 "nbformat": 4,
 "nbformat_minor": 2
}
