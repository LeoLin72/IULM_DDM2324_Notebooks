{
 "cells": [
  {
   "cell_type": "markdown",
   "metadata": {},
   "source": [
    "# Capitolo 5: Dentmax, Exploratory Data Analysis"
   ]
  },
  {
   "cell_type": "code",
   "execution_count": null,
   "metadata": {},
   "outputs": [],
   "source": [
    "# Import necessary libraries\n",
    "import pandas as pd\n",
    "import matplotlib.pyplot as plt\n",
    "import seaborn as sns\n",
    "import numpy as np\n",
    "from scipy.stats import pearsonr\n",
    "\n",
    "# Read the data\n",
    "df = pd.read_excel(\"data/Capitolo5e6-DentMax.xlsx\")\n",
    "\n",
    "# Display the first few rows of the dataframe\n",
    "df.head()\n"
   ]
  },
  {
   "cell_type": "markdown",
   "metadata": {},
   "source": [
    "## Statistica descrittiva"
   ]
  },
  {
   "cell_type": "code",
   "execution_count": null,
   "metadata": {},
   "outputs": [],
   "source": [
    "df.describe()"
   ]
  },
  {
   "cell_type": "code",
   "execution_count": null,
   "metadata": {},
   "outputs": [],
   "source": [
    "# Compute correlation matrix\n",
    "corr = df.corr()\n",
    "\n",
    "# Plot the heatmap\n",
    "plt.figure(figsize=(16, 12))\n",
    "sns.heatmap(corr, annot=True, cmap='coolwarm', vmin=-1, vmax=1)\n",
    "plt.show()\n"
   ]
  },
  {
   "cell_type": "code",
   "execution_count": null,
   "metadata": {},
   "outputs": [],
   "source": [
    "# Identify numeric columns\n",
    "numeric_cols = df.select_dtypes(include=[np.number]).columns.tolist()\n",
    "\n",
    "# Compute correlation for numeric columns\n",
    "corr = df[numeric_cols].corr()\n",
    "\n",
    "# For p-values, we'll initialize an empty DataFrame with the same shape as the correlation matrix\n",
    "pvals = pd.DataFrame(index=numeric_cols, columns=numeric_cols)\n",
    "\n",
    "# Populate the p-value matrix for only numeric columns\n",
    "for i in numeric_cols:\n",
    "    for j in numeric_cols:\n",
    "        _, p = pearsonr(df[i], df[j])\n",
    "        pvals.loc[i, j] = p\n",
    "\n",
    "# Mask for significant correlations: Let's assume significance level is 0.05\n",
    "mask_significant = pvals > 0.05\n",
    "\n",
    "# Plot the heatmap with correlations and mask non-significant ones\n",
    "plt.figure(figsize=(18, 14))\n",
    "sns.heatmap(corr, annot=True, cmap='coolwarm', vmin=-1, vmax=1, mask=mask_significant, cbar_kws={'label': 'Pearson Correlation'})\n",
    "\n",
    "# Ensure row and column names are displayed\n",
    "plt.xticks(rotation=90)  # Optional: This rotates x labels for better visibility if they're long.\n",
    "plt.yticks(rotation=0)   # This ensures y labels are horizontal.\n",
    "\n",
    "plt.show()\n"
   ]
  }
 ],
 "metadata": {
  "kernelspec": {
   "display_name": "Python 3",
   "language": "python",
   "name": "python3"
  },
  "language_info": {
   "codemirror_mode": {
    "name": "ipython",
    "version": 3
   },
   "file_extension": ".py",
   "mimetype": "text/x-python",
   "name": "python",
   "nbconvert_exporter": "python",
   "pygments_lexer": "ipython3",
   "version": "3.9.17"
  },
  "orig_nbformat": 4
 },
 "nbformat": 4,
 "nbformat_minor": 2
}
