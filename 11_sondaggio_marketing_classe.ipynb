{
 "cells": [
  {
   "cell_type": "markdown",
   "metadata": {},
   "source": [
    "[![Open In Colab](https://colab.research.google.com/assets/colab-badge.svg)](https://colab.research.google.com/github/alesaccoia/IULM_DDM2324_Notebooks/blob/main/11_sondaggio_marketing_classe.ipynb)"
   ]
  },
  {
   "cell_type": "markdown",
   "metadata": {},
   "source": [
    "# Capitolo 5: preferenze nel Digital Marketing della classe DDM\n",
    "\n",
    "[Analizziamo i risultati del sondaggio](https://alessandrosaccoia.questionpro.com/t/AYs1oZ0FdS) effettuato tra i 27 presenti alla lezione del 17 ottobre 2023"
   ]
  },
  {
   "cell_type": "code",
   "execution_count": null,
   "metadata": {},
   "outputs": [],
   "source": [
    "# Import necessary libraries\n",
    "import pandas as pd\n",
    "import matplotlib.pyplot as plt\n",
    "import seaborn as sns\n",
    "import numpy as np\n",
    "from scipy.stats import pearsonr\n",
    "\n",
    "# Read the data\n",
    "df = pd.read_excel(\"data/sondaggio_marketing_in_classe.xlsx\")\n",
    "\n",
    "# Display the first few rows of the dataframe\n",
    "df.head()\n"
   ]
  },
  {
   "cell_type": "markdown",
   "metadata": {},
   "source": [
    "# Controllo e imputazione dei valori nulli"
   ]
  },
  {
   "cell_type": "code",
   "execution_count": null,
   "metadata": {},
   "outputs": [],
   "source": [
    "df.isnull().sum()"
   ]
  },
  {
   "cell_type": "code",
   "execution_count": null,
   "metadata": {},
   "outputs": [],
   "source": [
    "numeric_cols_mean = df.mean(numeric_only=True)\n",
    "df = df.fillna(numeric_cols_mean)"
   ]
  },
  {
   "cell_type": "code",
   "execution_count": null,
   "metadata": {},
   "outputs": [],
   "source": [
    "numeric_cols_mean"
   ]
  },
  {
   "cell_type": "code",
   "execution_count": null,
   "metadata": {},
   "outputs": [],
   "source": [
    "# Controlliamo che non ci siano più valori nulli\n",
    "df.isnull().sum()"
   ]
  },
  {
   "cell_type": "markdown",
   "metadata": {},
   "source": [
    "Il dataframe é ripulito"
   ]
  },
  {
   "cell_type": "code",
   "execution_count": null,
   "metadata": {},
   "outputs": [],
   "source": [
    "df.head()"
   ]
  },
  {
   "cell_type": "markdown",
   "metadata": {},
   "source": []
  },
  {
   "cell_type": "markdown",
   "metadata": {},
   "source": [
    "# Visualizzazione delle risposte\n"
   ]
  },
  {
   "cell_type": "code",
   "execution_count": null,
   "metadata": {},
   "outputs": [],
   "source": [
    "import matplotlib.pyplot as plt\n",
    "\n",
    "# Supponendo che 'df' sia il tuo DataFrame originale\n",
    "# Calcola il numero di variabili (N)\n",
    "N = df.shape[1] - 1  # Escludi la prima colonna se non è numerica\n",
    "\n",
    "fig, axes = plt.subplots(1, N, figsize=(12, 12), sharey=True)  # Imposta il layout dei subplot\n",
    "\n",
    "# Ciclo per creare boxplot per ogni variabile\n",
    "for i, col in enumerate(df.columns[1:]):\n",
    "    df[[col]].boxplot(ax=axes[i])\n",
    "    plt.setp(axes[i].xaxis.get_majorticklabels(), rotation=90)  # Ruota le etichette sull'asse x\n",
    "\n",
    "plt.tight_layout()\n",
    "plt.show()\n"
   ]
  },
  {
   "cell_type": "markdown",
   "metadata": {},
   "source": [
    "# Standardizzazione delle variabili"
   ]
  },
  {
   "cell_type": "code",
   "execution_count": null,
   "metadata": {},
   "outputs": [],
   "source": [
    "from scipy.cluster.hierarchy import dendrogram, linkage, fcluster\n",
    "from sklearn.preprocessing import StandardScaler\n",
    "scaler = StandardScaler()\n",
    "df_scaled = scaler.fit_transform(df.iloc[:, 1:])"
   ]
  },
  {
   "cell_type": "markdown",
   "metadata": {},
   "source": [
    "# Creazione della matrice di distanze e dendrogramma"
   ]
  },
  {
   "cell_type": "code",
   "execution_count": null,
   "metadata": {},
   "outputs": [],
   "source": [
    "# Clustering gerarchico\n",
    "Z = linkage(df_scaled, method='ward', metric='euclidean')\n",
    "Z"
   ]
  },
  {
   "cell_type": "code",
   "execution_count": null,
   "metadata": {},
   "outputs": [],
   "source": [
    "# Visualizza il dendrogramma\n",
    "plt.figure(figsize=(12, 6))\n",
    "dendrogram(Z, p=10, truncate_mode='level')\n",
    "plt.xlabel('Nodi')\n",
    "plt.ylabel('Distanza')\n",
    "plt.show()"
   ]
  },
  {
   "cell_type": "markdown",
   "metadata": {},
   "source": [
    "# Decisione dell'altezza di \"taglio\"\n",
    "\n",
    "Dopo aver esaminato il dendrogramma, é possibile valre quali e quanti gruppi tenere. Tagliamo a 8 per avere tre cluster"
   ]
  },
  {
   "cell_type": "code",
   "execution_count": null,
   "metadata": {},
   "outputs": [],
   "source": [
    "threshold = 8"
   ]
  },
  {
   "cell_type": "code",
   "execution_count": null,
   "metadata": {},
   "outputs": [],
   "source": [
    "# Effettua il clustering in base all'altezza di taglio scelta\n",
    "clusters = fcluster(Z, t=threshold, criterion='distance')\n",
    "print(np.unique(clusters))\n",
    "print(clusters)\n",
    "# Aggiungi la colonna dei cluster al DataFrame originale (non a quello normalizzato, in tal modo )\n",
    "df['Cluster'] = clusters"
   ]
  },
  {
   "cell_type": "markdown",
   "metadata": {},
   "source": [
    "## Numerositá e proporzione dei cluster"
   ]
  },
  {
   "cell_type": "code",
   "execution_count": null,
   "metadata": {},
   "outputs": [],
   "source": [
    "cluster_counts = df['Cluster'].value_counts()\n",
    "proportions = cluster_counts / df.shape[0]\n",
    "\n",
    "print(cluster_counts)\n",
    "print(proportions)"
   ]
  },
  {
   "cell_type": "code",
   "execution_count": null,
   "metadata": {},
   "outputs": [],
   "source": [
    "# Calculate centroids for each cluster\n",
    "cluster_centroids = df.groupby('Cluster').mean().reset_index()\n",
    "print(cluster_centroids)\n",
    "\n"
   ]
  },
  {
   "cell_type": "markdown",
   "metadata": {},
   "source": [
    "## Trasposizione dei cluster per visualizzazione tabella"
   ]
  },
  {
   "cell_type": "code",
   "execution_count": null,
   "metadata": {},
   "outputs": [],
   "source": [
    "\n",
    "# Calculate centroids for each cluster\n",
    "cluster_centroids = cluster_centroids.round(2)\n",
    "\n",
    "# Transpose the matrix\n",
    "cluster_centroids_transposed = cluster_centroids.transpose()\n",
    "\n",
    "# Correct the column headers after transposition\n",
    "cluster_centroids_transposed.columns = cluster_centroids_transposed.iloc[0]\n",
    "cluster_centroids_transposed = cluster_centroids_transposed.drop('Cluster')\n",
    "cluster_centroids_transposed\n",
    "\n"
   ]
  },
  {
   "cell_type": "code",
   "execution_count": null,
   "metadata": {},
   "outputs": [],
   "source": [
    "cluster_centroids_transposed.to_excel('data/risultati_clustering_sondaggio.xlsx')"
   ]
  },
  {
   "cell_type": "markdown",
   "metadata": {},
   "source": [
    "## Visualizzazione con PCA\n",
    "\n",
    "Notea: I nomi sono visualizzati 10 pixel sopra il punto corrispondente"
   ]
  },
  {
   "cell_type": "code",
   "execution_count": null,
   "metadata": {},
   "outputs": [],
   "source": [
    "import seaborn as sns\n",
    "import matplotlib.pyplot as plt\n",
    "from sklearn.decomposition import PCA\n",
    "\n",
    "# Esegui PCA\n",
    "pca = PCA(n_components=2)\n",
    "df_pca = pca.fit_transform(df_scaled)\n",
    "\n",
    "# Set the style of the plot\n",
    "sns.set(style=\"whitegrid\")\n",
    "\n",
    "# Create a scatter plot of the PCA results with colors based on cluster ID\n",
    "plt.figure(figsize=(10, 6))\n",
    "scatter = sns.scatterplot(x=df_pca[:, 0], y=df_pca[:, 1], hue=df['Cluster'], palette='tab10', s=80)\n",
    "\n",
    "# Aggiungi i nomi delle persone come annotazioni\n",
    "for i, name in enumerate(df['Nome']):\n",
    "    scatter.annotate(name, (df_pca[i, 0], df_pca[i, 1]), textcoords=\"offset points\", xytext=(0,10), ha='center')\n",
    "\n",
    "plt.xlabel('Principal Component 1')\n",
    "plt.ylabel('Principal Component 2')\n",
    "plt.legend(title='Cluster', loc='best', labels=['Cluster ' + str(i) for i in range(1, len(np.unique(clusters)) + 1)])\n",
    "plt.grid(False)\n",
    "plt.show()\n"
   ]
  },
  {
   "cell_type": "code",
   "execution_count": null,
   "metadata": {},
   "outputs": [],
   "source": [
    "from scipy.spatial.distance import pdist, squareform\n",
    "import seaborn as sns\n",
    "\n",
    "# Calcola le distanze euclidee tra le osservazioni\n",
    "distances = pdist(df_scaled, metric='euclidean')\n",
    "\n",
    "# Converti le distanze in una matrice simmetrica\n",
    "distance_matrix = squareform(distances)\n",
    "\n",
    "# Visualizza la matrice delle distanze come heatmap con etichette dei nomi delle persone\n",
    "plt.figure(figsize=(12, 10))\n",
    "sns.heatmap(distance_matrix, cmap='viridis', xticklabels=df['Nome'], yticklabels=df['Nome'])\n",
    "plt.title('Matrice delle Distanze Euclidee')\n",
    "plt.xticks(rotation=90)  # Ruota le etichette sull'asse x per una migliore leggibilità\n",
    "plt.yticks(rotation=0)\n",
    "plt.show()\n"
   ]
  },
  {
   "cell_type": "markdown",
   "metadata": {},
   "source": [
    "# Trovare le persone più vicine a se stessi"
   ]
  },
  {
   "cell_type": "code",
   "execution_count": null,
   "metadata": {},
   "outputs": [],
   "source": [
    "# Nome da cui calcolare le distanze\n",
    "whoami = \"Alessandro S.\"\n",
    "\n",
    "# Trova l'indice dell'osservazione corrispondente al nome specifico. Prende lo [0] perché più righe potrebbero corrispondere al criterio selezionato\n",
    "idx = df[df['Nome'] == whoami].index[0]\n",
    "\n",
    "idx # questo é l'indice della riga"
   ]
  },
  {
   "cell_type": "code",
   "execution_count": null,
   "metadata": {},
   "outputs": [],
   "source": [
    "# Estrai le distanze per l'osservazione selezionata\n",
    "selected_distances = distance_matrix[idx]\n",
    "\n",
    "# Crea una Serie pandas con i nomi delle persone e le distanze\n",
    "distance_series = pd.Series(selected_distances, index=df['Nome'], name='Distance')\n",
    "\n",
    "# Ordina la Serie per distanza crescente (escludendo se stesso)\n",
    "distance_series = distance_series.drop(whoami).sort_values()\n",
    "\n",
    "# Visualizza i punti più vicini\n",
    "print(distance_series)"
   ]
  }
 ],
 "metadata": {
  "kernelspec": {
   "display_name": "Python 3",
   "language": "python",
   "name": "python3"
  },
  "language_info": {
   "codemirror_mode": {
    "name": "ipython",
    "version": 3
   },
   "file_extension": ".py",
   "mimetype": "text/x-python",
   "name": "python",
   "nbconvert_exporter": "python",
   "pygments_lexer": "ipython3",
   "version": "3.9.17"
  },
  "orig_nbformat": 4
 },
 "nbformat": 4,
 "nbformat_minor": 2
}
