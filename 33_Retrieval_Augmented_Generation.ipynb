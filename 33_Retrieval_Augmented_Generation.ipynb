{
  "cells": [
    {
      "cell_type": "markdown",
      "metadata": {
        "id": "view-in-github",
        "colab_type": "text"
      },
      "source": [
        "<a href=\"https://colab.research.google.com/github/alesaccoia/IULM_DDM2324_Notebooks/blob/main/33_Retrieval_Augmented_Generation.ipynb\" target=\"_parent\"><img src=\"https://colab.research.google.com/assets/colab-badge.svg\" alt=\"Open In Colab\"/></a>"
      ]
    },
    {
      "cell_type": "markdown",
      "id": "1dfedbd6-4814-46d3-a46e-84e66c5696c1",
      "metadata": {
        "id": "1dfedbd6-4814-46d3-a46e-84e66c5696c1"
      },
      "source": [
        "# Vector Search con OpenAI"
      ]
    },
    {
      "cell_type": "code",
      "execution_count": null,
      "id": "eaf11874-c6cc-493a-b0d5-48263b119a09",
      "metadata": {
        "id": "eaf11874-c6cc-493a-b0d5-48263b119a09"
      },
      "outputs": [],
      "source": [
        "import csv\n",
        "from langchain.embeddings import OpenAIEmbeddings\n",
        "from langchain.vectorstores import Chroma\n",
        "import chromadb"
      ]
    },
    {
      "cell_type": "code",
      "execution_count": 1,
      "id": "4271a8de-a3d7-4264-a127-43349babbddf",
      "metadata": {
        "id": "4271a8de-a3d7-4264-a127-43349babbddf"
      },
      "outputs": [],
      "source": [
        "import os\n",
        "os.environ[\"OPENAI_API_KEY\"] = \"YOUR API KEY\" # https://platform.openai.com/api-keys\n",
        "\n",
        "\n",
        "def get_name(_):\n",
        "    return \"Test\"\n"
      ]
    },
    {
      "cell_type": "markdown",
      "id": "6ce9ddbe-469b-4109-9f52-b0d5ed5eb414",
      "metadata": {
        "id": "6ce9ddbe-469b-4109-9f52-b0d5ed5eb414"
      },
      "source": [
        "## Carichiamo il dataset\n",
        "\n",
        "Carichiamo la lista degli attori, per la \"fonte\" del documento usiamo un URL"
      ]
    },
    {
      "cell_type": "code",
      "execution_count": null,
      "id": "c8524ae5-9528-428d-bbd8-5456ac6060c3",
      "metadata": {
        "id": "c8524ae5-9528-428d-bbd8-5456ac6060c3"
      },
      "outputs": [],
      "source": [
        "from langchain.document_loaders.csv_loader import CSVLoader\n",
        "loader = CSVLoader(file_path=\"actors_description.csv\", source_column=\"fonte\")\n",
        "docs = loader.load()"
      ]
    },
    {
      "cell_type": "code",
      "execution_count": null,
      "id": "48ebfda4-55b3-46df-9ca1-cebaf4783d6c",
      "metadata": {
        "id": "48ebfda4-55b3-46df-9ca1-cebaf4783d6c",
        "outputId": "d3be7d91-496d-417a-f692-e4c93b044b65"
      },
      "outputs": [
        {
          "name": "stdout",
          "output_type": "stream",
          "text": [
            "page_content='descrizione_persona: Aisha Patel, Indian actress acclaimed for her roles in Bollywood musicals\\nfonte: http://www.bollywood-stars.in/aisha-patel' metadata={'source': 'http://www.bollywood-stars.in/aisha-patel', 'row': 3}\n"
          ]
        }
      ],
      "source": [
        "# Visualizziamo un articolo\n",
        "print(docs[3])"
      ]
    },
    {
      "cell_type": "markdown",
      "id": "83fef213-468c-4ea8-b7fe-fa01e453e907",
      "metadata": {
        "id": "83fef213-468c-4ea8-b7fe-fa01e453e907"
      },
      "source": [
        "## Utilizzo degli embeddings di OpenAI\n",
        "\n",
        "E creazione di un \"vector store\" (Attenzione l'API é a Pagamento)"
      ]
    },
    {
      "cell_type": "code",
      "execution_count": null,
      "id": "d14ca7de-f732-42b6-af88-7bd398de7318",
      "metadata": {
        "id": "d14ca7de-f732-42b6-af88-7bd398de7318"
      },
      "outputs": [],
      "source": [
        "embeddings = OpenAIEmbeddings()\n",
        "vector_store = Chroma.from_documents(\n",
        "    docs, embeddings, collection_name=\"attori\"\n",
        ")"
      ]
    },
    {
      "cell_type": "markdown",
      "id": "88729df5-33c0-425b-b4fb-f6fca7bc3a80",
      "metadata": {
        "id": "88729df5-33c0-425b-b4fb-f6fca7bc3a80"
      },
      "source": [
        "## Ricerca dal Vector Database"
      ]
    },
    {
      "cell_type": "code",
      "execution_count": null,
      "id": "5f267b02-bf4a-479d-9b94-ea866d6fac01",
      "metadata": {
        "id": "5f267b02-bf4a-479d-9b94-ea866d6fac01",
        "outputId": "1a477428-84c3-4c76-9928-466d000b671f"
      },
      "outputs": [
        {
          "name": "stdout",
          "output_type": "stream",
          "text": [
            "descrizione_persona: Sophie Lefèvre, actrice française célèbre pour ses rôles dans des films romantiques\n",
            "fonte: http://www.cinema-francais.com/sophie-lefevre\n"
          ]
        }
      ],
      "source": [
        "query = \"Chi é Sophie Lephebre?\"\n",
        "retrieved_docs = vector_store.similarity_search(query)\n",
        "print(retrieved_docs[0].page_content)"
      ]
    },
    {
      "cell_type": "markdown",
      "id": "62560fb8-7011-4321-8727-f60bafb26f83",
      "metadata": {
        "id": "62560fb8-7011-4321-8727-f60bafb26f83"
      },
      "source": [
        "## Utilizzo in un chatbot\n"
      ]
    },
    {
      "cell_type": "code",
      "execution_count": null,
      "id": "8eb4ee06-82f6-4978-8042-a63fec0fc2ed",
      "metadata": {
        "id": "8eb4ee06-82f6-4978-8042-a63fec0fc2ed"
      },
      "outputs": [],
      "source": [
        "from langchain.memory import ConversationBufferMemory\n",
        "from langchain.chains import ConversationalRetrievalChain\n",
        "\n",
        "# Create the retriever using the vector store\n",
        "retriever = vector_store.as_retriever()\n",
        "\n",
        "memory = ConversationBufferMemory(memory_key=\"chat_history\", return_messages= True)\n",
        "chain = ConversationalRetrievalChain.from_llm(model, retriever= retriever, memory= memory)"
      ]
    },
    {
      "cell_type": "code",
      "execution_count": null,
      "id": "a936657b-8037-4428-be4f-ecea7957ea91",
      "metadata": {
        "id": "a936657b-8037-4428-be4f-ecea7957ea91",
        "outputId": "ad456e95-66ea-4c12-cb4f-5ade62999499"
      },
      "outputs": [
        {
          "data": {
            "text/plain": [
              "\"Sophie Lefèvre è un'attrice francese famosa per i suoi ruoli nei film romantici.\""
            ]
          },
          "execution_count": 34,
          "metadata": {},
          "output_type": "execute_result"
        }
      ],
      "source": [
        "chain.run({'question': 'Chi é Sophie Lephebre?'})"
      ]
    },
    {
      "cell_type": "code",
      "execution_count": null,
      "id": "21e6a038-92ae-4540-838c-2ac9a6e73ec0",
      "metadata": {
        "id": "21e6a038-92ae-4540-838c-2ac9a6e73ec0",
        "outputId": "6aa20d18-d2b8-4c1d-e710-129c2d6241b5"
      },
      "outputs": [
        {
          "data": {
            "text/plain": [
              "'Sophie Lefèvre è di nazionalità francese.'"
            ]
          },
          "execution_count": 35,
          "metadata": {},
          "output_type": "execute_result"
        }
      ],
      "source": [
        "chain.run({'question': 'Di che nazionalitá é?'})"
      ]
    },
    {
      "cell_type": "code",
      "execution_count": null,
      "id": "e1ceaf76-dec6-44e7-b427-0e8e9bbd3083",
      "metadata": {
        "id": "e1ceaf76-dec6-44e7-b427-0e8e9bbd3083"
      },
      "outputs": [],
      "source": []
    }
  ],
  "metadata": {
    "kernelspec": {
      "display_name": "Python 3 (ipykernel)",
      "language": "python",
      "name": "python3"
    },
    "language_info": {
      "codemirror_mode": {
        "name": "ipython",
        "version": 3
      },
      "file_extension": ".py",
      "mimetype": "text/x-python",
      "name": "python",
      "nbconvert_exporter": "python",
      "pygments_lexer": "ipython3",
      "version": "3.10.12"
    },
    "colab": {
      "provenance": [],
      "include_colab_link": true
    }
  },
  "nbformat": 4,
  "nbformat_minor": 5
}