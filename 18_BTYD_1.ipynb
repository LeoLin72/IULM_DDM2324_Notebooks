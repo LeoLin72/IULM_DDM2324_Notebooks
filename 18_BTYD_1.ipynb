{
  "nbformat": 4,
  "nbformat_minor": 0,
  "metadata": {
    "colab": {
      "provenance": [],
      "authorship_tag": "ABX9TyPYJ6Z77Nm5OSzIXo/qmeep",
      "include_colab_link": true
    },
    "kernelspec": {
      "name": "python3",
      "display_name": "Python 3"
    },
    "language_info": {
      "name": "python"
    }
  },
  "cells": [
    {
      "cell_type": "markdown",
      "metadata": {
        "id": "view-in-github",
        "colab_type": "text"
      },
      "source": [
        "<a href=\"https://colab.research.google.com/github/alesaccoia/IULM_DDM2324_Notebooks/blob/main/18_BTYD_1.ipynb\" target=\"_parent\"><img src=\"https://colab.research.google.com/assets/colab-badge.svg\" alt=\"Open In Colab\"/></a>"
      ]
    },
    {
      "cell_type": "code",
      "execution_count": null,
      "metadata": {
        "id": "PPZyFh7qIp5J"
      },
      "outputs": [],
      "source": [
        "!pip install lifetimes"
      ]
    },
    {
      "cell_type": "code",
      "source": [
        "from lifetimes.datasets import load_cdnow_summary\n",
        "data = load_cdnow_summary(index_col=[0])\n",
        "\n",
        "print(data.head())"
      ],
      "metadata": {
        "id": "MYp0wybbIsTC"
      },
      "execution_count": null,
      "outputs": []
    },
    {
      "cell_type": "markdown",
      "source": [
        "Vediamo ora la dimensionalitá del dataset:"
      ],
      "metadata": {
        "id": "8FG4-2LmI1_h"
      }
    },
    {
      "cell_type": "code",
      "source": [
        "data.shape"
      ],
      "metadata": {
        "id": "AsJJ7wCYIztL"
      },
      "execution_count": null,
      "outputs": []
    },
    {
      "cell_type": "code",
      "source": [
        "data.describe()"
      ],
      "metadata": {
        "id": "TN50E1bAI8ba"
      },
      "execution_count": null,
      "outputs": []
    },
    {
      "cell_type": "markdown",
      "source": [
        "# Utilizzo del Modello"
      ],
      "metadata": {
        "id": "4IqW2LsNLe-R"
      }
    },
    {
      "cell_type": "code",
      "source": [
        "from lifetimes import BetaGeoFitter\n",
        "\n",
        "# similar API to scikit-learn and lifelines.\n",
        "bgf = BetaGeoFitter(penalizer_coef=0.0)\n",
        "bgf.fit(data['frequency'], data['recency'], data['T'])\n",
        "print(bgf)"
      ],
      "metadata": {
        "id": "00vzUaW2JEmE"
      },
      "execution_count": null,
      "outputs": []
    },
    {
      "cell_type": "markdown",
      "source": [
        "Una volta che il modello é stato lanciato, si possono visualizzare molti grafici interessanti.\n",
        "\n",
        "Considera il seguente scenario: un cliente ha acquistato da te ogni giorno per tre settimane di fila, e non abbiamo più sentito nulla da loro da mesi. Quali sono le probabilità che siano ancora \"attivi\"? Piuttosto basse. D'altra parte, un cliente che storicamente acquista da te una volta al trimestre e ha acquistato l'ultimo trimestre, è probabile che sia ancora attivo. Possiamo visualizzare questa relazione utilizzando la matrice Frequenza/Tempo trascorso, che calcola il numero previsto di transazioni che un cliente artificiale effettuerà nel prossimo periodo di tempo, in base alla sua recente attività (età all'ultimo acquisto) e alla frequenza (il numero di transazioni ripetute che ha effettuato)."
      ],
      "metadata": {
        "id": "YHHZii8MLxQd"
      }
    },
    {
      "cell_type": "code",
      "source": [
        "from lifetimes.plotting import plot_frequency_recency_matrix\n",
        "\n",
        "plot_frequency_recency_matrix(bgf)"
      ],
      "metadata": {
        "id": "kans6-w5JWF6"
      },
      "execution_count": null,
      "outputs": []
    },
    {
      "cell_type": "code",
      "source": [],
      "metadata": {
        "id": "JGNbNxa0LeBG"
      },
      "execution_count": null,
      "outputs": []
    },
    {
      "cell_type": "markdown",
      "source": [
        "\n",
        "Possiamo notare che se un cliente ha acquistato 25 volte da te e il suo ultimo acquisto è stato quando avevano 35 settimane di età (considerando che l'individuo ha 35 settimane di età), allora sono il tuo miglior cliente (in basso a destra). I tuoi clienti meno attivi si trovano nell'angolo in alto a destra: hanno acquistato molto rapidamente e non li abbiamo visti da settimane.\n",
        "\n",
        "C'è anche quella bellissima \"coda\" intorno a (5,25). Rappresenta il cliente che acquista raramente, ma l'abbiamo visto di recente, quindi potrebbero acquistare di nuovo - non siamo sicuri se siano inattivi o semplicemente tra un acquisto e l'altro.\n",
        "\n",
        "Un'altra matrice interessante da esaminare è la probabilità di essere ancora attivi:"
      ],
      "metadata": {
        "id": "cipiT1TeMUF_"
      }
    },
    {
      "cell_type": "code",
      "source": [
        "from lifetimes.plotting import plot_probability_alive_matrix\n",
        "\n",
        "plot_probability_alive_matrix(bgf)"
      ],
      "metadata": {
        "id": "KReNvEZmMU2H"
      },
      "execution_count": null,
      "outputs": []
    },
    {
      "cell_type": "code",
      "source": [
        "t = 1\n",
        "data['predicted_purchases'] = bgf.conditional_expected_number_of_purchases_up_to_time(t, data['frequency'], data['recency'], data['T'])\n",
        "data.sort_values(by='predicted_purchases').tail(5)"
      ],
      "metadata": {
        "id": "F1c5H1RgMids"
      },
      "execution_count": null,
      "outputs": []
    },
    {
      "cell_type": "code",
      "source": [
        "from lifetimes.datasets import load_transaction_data\n",
        "from lifetimes.utils import summary_data_from_transaction_data\n",
        "\n",
        "transaction_data = load_transaction_data()\n",
        "print(transaction_data.head())"
      ],
      "metadata": {
        "id": "gtXQ23MOMndl"
      },
      "execution_count": null,
      "outputs": []
    },
    {
      "cell_type": "code",
      "source": [
        "transaction_data.date.min(),transaction_data.date.max()"
      ],
      "metadata": {
        "id": "MuQALUDBM0kO"
      },
      "execution_count": null,
      "outputs": []
    },
    {
      "cell_type": "code",
      "source": [
        "summary = summary_data_from_transaction_data(transaction_data, 'id', 'date', observation_period_end='2014-12-31')\n",
        "print(summary.head())"
      ],
      "metadata": {
        "id": "R3fnn9XFM-VR"
      },
      "execution_count": null,
      "outputs": []
    },
    {
      "cell_type": "code",
      "source": [],
      "metadata": {
        "id": "5QN64TODSoWu"
      },
      "execution_count": null,
      "outputs": []
    }
  ]
}