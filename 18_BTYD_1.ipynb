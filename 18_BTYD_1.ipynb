{
  "nbformat": 4,
  "nbformat_minor": 0,
  "metadata": {
    "colab": {
      "provenance": [],
      "authorship_tag": "ABX9TyPzNgWiQWKK0eBcqgBQa7jm",
      "include_colab_link": true
    },
    "kernelspec": {
      "name": "python3",
      "display_name": "Python 3"
    },
    "language_info": {
      "name": "python"
    }
  },
  "cells": [
    {
      "cell_type": "markdown",
      "metadata": {
        "id": "view-in-github",
        "colab_type": "text"
      },
      "source": [
        "<a href=\"https://colab.research.google.com/github/alesaccoia/IULM_DDM2324_Notebooks/blob/main/18_BTYD_1.ipynb\" target=\"_parent\"><img src=\"https://colab.research.google.com/assets/colab-badge.svg\" alt=\"Open In Colab\"/></a>"
      ]
    },
    {
      "cell_type": "markdown",
      "source": [
        "# Utilizzo della libreria \"lifetimes\" per il calcolo del valore del cliente"
      ],
      "metadata": {
        "id": "L-Dv_qt-jMQf"
      }
    },
    {
      "cell_type": "code",
      "execution_count": null,
      "metadata": {
        "id": "PPZyFh7qIp5J"
      },
      "outputs": [],
      "source": [
        "!pip install lifetimes"
      ]
    },
    {
      "cell_type": "markdown",
      "source": [
        "E' possibile caricare il dataset originale con le transazioni di CD NOW"
      ],
      "metadata": {
        "id": "CW6lPe-GjVFy"
      }
    },
    {
      "cell_type": "code",
      "source": [
        "from lifetimes.datasets import load_transaction_data\n",
        "from lifetimes.utils import summary_data_from_transaction_data\n",
        "\n",
        "transaction_data = load_transaction_data()\n",
        "print(transaction_data.head())"
      ],
      "metadata": {
        "id": "6bjWsZBngvdp"
      },
      "execution_count": null,
      "outputs": []
    },
    {
      "cell_type": "code",
      "source": [],
      "metadata": {
        "id": "hEsiFmAsjrmB"
      },
      "execution_count": null,
      "outputs": []
    },
    {
      "cell_type": "markdown",
      "source": [
        "\"summary_data_from_transaction_data\" crea il dataframe aggregato partendo dai dati raw"
      ],
      "metadata": {
        "id": "XKMkL0wUjtiC"
      }
    },
    {
      "cell_type": "code",
      "source": [
        "summary_data_from_transaction_data(transaction_data, \"id\", \"date\")"
      ],
      "metadata": {
        "id": "O6oBvgQzjmVM"
      },
      "execution_count": null,
      "outputs": []
    },
    {
      "cell_type": "markdown",
      "source": [
        "In alternativa, la libreria già fornisce il dataset aggregato"
      ],
      "metadata": {
        "id": "-goqmopIjzA5"
      }
    },
    {
      "cell_type": "code",
      "source": [
        "from lifetimes.datasets import load_cdnow_summary\n",
        "data = load_cdnow_summary(index_col=[0])\n",
        "\n",
        "print(data.head())"
      ],
      "metadata": {
        "id": "MYp0wybbIsTC"
      },
      "execution_count": null,
      "outputs": []
    },
    {
      "cell_type": "markdown",
      "source": [
        "Vediamo ora la dimensionalitá del dataset:"
      ],
      "metadata": {
        "id": "8FG4-2LmI1_h"
      }
    },
    {
      "cell_type": "code",
      "source": [
        "data.shape"
      ],
      "metadata": {
        "id": "AsJJ7wCYIztL"
      },
      "execution_count": null,
      "outputs": []
    },
    {
      "cell_type": "code",
      "source": [
        "data.describe()"
      ],
      "metadata": {
        "id": "TN50E1bAI8ba"
      },
      "execution_count": null,
      "outputs": []
    },
    {
      "cell_type": "markdown",
      "source": [
        "# Utilizzo del Modello\n",
        "\n",
        "Il modello Pareto/NBD viene importanto con l'oggetto BetaGeoFitter, che ha un API simile ai modelli di sklearn"
      ],
      "metadata": {
        "id": "4IqW2LsNLe-R"
      }
    },
    {
      "cell_type": "code",
      "source": [
        "from lifetimes import BetaGeoFitter\n",
        "\n",
        "# similar API to scikit-learn and lifelines.\n",
        "bgf = BetaGeoFitter(penalizer_coef=0.0)\n",
        "bgf.fit(data['frequency'], data['recency'], data['T'])\n",
        "print(bgf)"
      ],
      "metadata": {
        "id": "00vzUaW2JEmE"
      },
      "execution_count": null,
      "outputs": []
    },
    {
      "cell_type": "markdown",
      "source": [
        "# La Probabilità degli utenti di essere ancora attivi"
      ],
      "metadata": {
        "id": "fXvjE0pgV5TR"
      }
    },
    {
      "cell_type": "code",
      "source": [
        "prob_alive = bgf.conditional_probability_alive(data['frequency'], data['recency'], data['T'])\n",
        "data['prob_alive'] = prob_alive\n",
        "print(f\"Il numero di clienti che sono ancora attivi é {data['prob_alive'].sum()} su {data.shape[0]}\")"
      ],
      "metadata": {
        "id": "w1iuAFSTV9t6"
      },
      "execution_count": null,
      "outputs": []
    },
    {
      "cell_type": "markdown",
      "source": [
        "# La Matrice Frequenza/Tempo Trascorso\n",
        "\n",
        "Una volta che il modello é stato caricato, si possono visualizzare altri grafici interessanti.\n",
        "\n",
        "Considera il seguente scenario: un cliente ha acquistato da te ogni giorno per tre settimane di fila, e non abbiamo più sentito nulla da loro da mesi. Quali sono le probabilità che siano ancora \"attivi\"? Piuttosto basse.\n",
        "\n",
        "D'altra parte, un cliente che storicamente acquista da te una volta al trimestre e ha acquistato l'ultimo trimestre, è probabile che sia ancora attivo.\n",
        "\n",
        "Possiamo visualizzare questa relazione utilizzando la matrice Frequenza/Tempo trascorso, che calcola il numero previsto di transazioni che un cliente artificiale effettuerà nel prossimo periodo di tempo, in base alla sua recente attività (età all'ultimo acquisto) e alla frequenza (il numero di transazioni ripetute che ha effettuato)."
      ],
      "metadata": {
        "id": "YHHZii8MLxQd"
      }
    },
    {
      "cell_type": "code",
      "source": [
        "from lifetimes.plotting import plot_frequency_recency_matrix\n",
        "\n",
        "plot_frequency_recency_matrix(bgf)"
      ],
      "metadata": {
        "id": "kans6-w5JWF6"
      },
      "execution_count": null,
      "outputs": []
    },
    {
      "cell_type": "markdown",
      "source": [
        "\n",
        "Possiamo notare che se un cliente ha acquistato 25 volte da te e il suo ultimo acquisto è stato quando avevano 35 settimane di età (considerando che l'individuo ha 35 settimane di età), allora sono il tuo miglior cliente (in basso a destra). I tuoi clienti meno attivi si trovano nell'angolo in alto a destra: hanno acquistato molto rapidamente e non li abbiamo visti da settimane.\n",
        "\n",
        "C'è anche quella \"coda\" intorno a (5,25). Rappresenta il cliente che acquista raramente, ma l'abbiamo visto di recente, quindi potrebbero acquistare di nuovo - non siamo sicuri se siano inattivi o semplicemente tra un acquisto e l'altro.\n",
        "\n",
        "Un'altra matrice interessante da esaminare è la probabilità di essere ancora attivi:"
      ],
      "metadata": {
        "id": "cipiT1TeMUF_"
      }
    },
    {
      "cell_type": "code",
      "source": [
        "from lifetimes.plotting import plot_probability_alive_matrix\n",
        "\n",
        "plot_probability_alive_matrix(bgf)"
      ],
      "metadata": {
        "id": "KReNvEZmMU2H"
      },
      "execution_count": null,
      "outputs": []
    },
    {
      "cell_type": "markdown",
      "source": [
        "## Calcolo della probabilitá di acquisto nel periodo seguente"
      ],
      "metadata": {
        "id": "BiN1d9ZokoM4"
      }
    },
    {
      "cell_type": "code",
      "source": [
        "t = 1\n",
        "data['predicted_purchases'] = bgf.conditional_expected_number_of_purchases_up_to_time(t, data['frequency'], data['recency'], data['T'])\n",
        "data.head()"
      ],
      "metadata": {
        "id": "F1c5H1RgMids"
      },
      "execution_count": null,
      "outputs": []
    },
    {
      "cell_type": "markdown",
      "source": [
        "## Calcolo della probabilitá di acquisto nel periodo seguente (52 settimane)"
      ],
      "metadata": {
        "id": "S3WI5ByQk0aJ"
      }
    },
    {
      "cell_type": "code",
      "source": [
        "t = 52\n",
        "data['predicted_purchases'] = bgf.conditional_expected_number_of_purchases_up_to_time(t,\n",
        "                                                                                      data['frequency'],\n",
        "                                                                                      data['recency'],\n",
        "                                                                                      data['T'])"
      ],
      "metadata": {
        "id": "5QN64TODSoWu"
      },
      "execution_count": null,
      "outputs": []
    },
    {
      "cell_type": "code",
      "source": [
        "print(data.head())\n",
        "print(data.shape)"
      ],
      "metadata": {
        "id": "gi7jjgTVhwgh"
      },
      "execution_count": null,
      "outputs": []
    },
    {
      "cell_type": "markdown",
      "source": [
        "## Grafico della probabilità di un utente di essere ancora attivo"
      ],
      "metadata": {
        "id": "ryBeJM9flfMo"
      }
    },
    {
      "cell_type": "code",
      "source": [
        "from lifetimes.plotting import plot_history_alive\n",
        "\n",
        "id = 35\n",
        "days_since_birth = 200\n",
        "sp_trans = transaction_data.loc[transaction_data['id'] == id]\n",
        "plot_history_alive(bgf, days_since_birth, sp_trans, 'date')"
      ],
      "metadata": {
        "id": "cA9N4DH1h3PN"
      },
      "execution_count": null,
      "outputs": []
    },
    {
      "cell_type": "markdown",
      "source": [
        "# Stima del CLV\n",
        "Carichiamo il dataset con anche il valore delle transazioni"
      ],
      "metadata": {
        "id": "VhV6lb9elw89"
      }
    },
    {
      "cell_type": "code",
      "source": [
        "from lifetimes.datasets import load_cdnow_summary_data_with_monetary_value\n",
        "\n",
        "summary_with_money_value = load_cdnow_summary_data_with_monetary_value()\n",
        "summary_with_money_value.head()\n",
        "returning_customers_summary = summary_with_money_value[summary_with_money_value['frequency']>0]\n",
        "\n",
        "print(returning_customers_summary.head())"
      ],
      "metadata": {
        "id": "0zZoVXxoloH6"
      },
      "execution_count": null,
      "outputs": []
    },
    {
      "cell_type": "markdown",
      "source": [
        "Il valore medio di una transazione di ritorno é:"
      ],
      "metadata": {
        "id": "ofiyQpCEmVC_"
      }
    },
    {
      "cell_type": "code",
      "source": [
        "mean_monetary_value = returning_customers_summary['monetary_value'].mean()\n",
        "mean_monetary_value"
      ],
      "metadata": {
        "id": "8hcZazppnXAR"
      },
      "execution_count": null,
      "outputs": []
    },
    {
      "cell_type": "markdown",
      "source": [
        "Possiamo quindi unire quest'informazione al nostro dataset, che contiene la probabilitá di acquisti nelle prossime 52 settimane, nel seguente modo"
      ],
      "metadata": {
        "id": "c371oHTIoLFv"
      }
    },
    {
      "cell_type": "code",
      "source": [
        "data['predicted_purchases_amount'] = data['predicted_purchases'] * mean_monetary_value\n",
        "CLV = data['predicted_purchases_amount'].sum() / data.shape[0]\n",
        "print(CLV)"
      ],
      "metadata": {
        "id": "FP8j5Diqnqle"
      },
      "execution_count": null,
      "outputs": []
    },
    {
      "cell_type": "code",
      "source": [
        "id = 35\n",
        "print(data.iloc[id])\n"
      ],
      "metadata": {
        "id": "JpAXFBvaouFS"
      },
      "execution_count": null,
      "outputs": []
    },
    {
      "cell_type": "code",
      "source": [],
      "metadata": {
        "id": "ZVHevb2KpH7w"
      },
      "execution_count": null,
      "outputs": []
    }
  ]
}