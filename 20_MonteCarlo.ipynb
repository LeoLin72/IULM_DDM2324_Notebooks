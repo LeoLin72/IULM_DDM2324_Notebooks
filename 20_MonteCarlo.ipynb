{
  "nbformat": 4,
  "nbformat_minor": 0,
  "metadata": {
    "colab": {
      "provenance": [],
      "authorship_tag": "ABX9TyMNUGZgZDhWAMp8E3DoAAqX",
      "include_colab_link": true
    },
    "kernelspec": {
      "name": "python3",
      "display_name": "Python 3"
    },
    "language_info": {
      "name": "python"
    }
  },
  "cells": [
    {
      "cell_type": "markdown",
      "metadata": {
        "id": "view-in-github",
        "colab_type": "text"
      },
      "source": [
        "<a href=\"https://colab.research.google.com/github/alesaccoia/IULM_DDM2324_Notebooks/blob/main/20_MonteCarlo.ipynb\" target=\"_parent\"><img src=\"https://colab.research.google.com/assets/colab-badge.svg\" alt=\"Open In Colab\"/></a>"
      ]
    },
    {
      "cell_type": "markdown",
      "source": [
        "# Simulazione Monte Carlo per un centro estetico"
      ],
      "metadata": {
        "id": "LfA4KIw72oqg"
      }
    },
    {
      "cell_type": "markdown",
      "source": [
        "Cominciamo l'esercizio simulando il calcolo per un singolo utente"
      ],
      "metadata": {
        "id": "Yj2wEpd121C4"
      }
    },
    {
      "cell_type": "code",
      "execution_count": null,
      "metadata": {
        "id": "6ne50ngy2mLE"
      },
      "outputs": [],
      "source": [
        "import random\n",
        "\n",
        "def simulate_iteration():\n",
        "    # Costi e ricavi fissi\n",
        "    costo_trattamento = 50\n",
        "    offerta_groupon = 20\n",
        "    ricavo_per_vendita = offerta_groupon / 2\n",
        "    costo_fisso_e_variabile = costo_trattamento * 0.5\n",
        "\n",
        "    # Generazione dei valori stocastici con i nuovi intervalli\n",
        "    percentuale_nuovi_clienti = random.uniform(0.65, 0.85)\n",
        "    percentuale_clienti_spendono_di_piu = random.uniform(0.30, 0.42)\n",
        "    importo_extra = random.uniform(10, 50)\n",
        "    percentuale_clienti_che_ritornano = random.uniform(0.10, 0.30)\n",
        "    profitto_annuo_per_cliente = random.uniform(50, 100)\n",
        "    retention_rate = random.uniform(0.55, 0.85)\n",
        "    discount_rate = 0.1\n",
        "\n",
        "    # Calcolo del guadagno/perdita per la vendita con Groupon\n",
        "    guadagno_groupon = ricavo_per_vendita - costo_fisso_e_variabile\n",
        "    guadagno_extra = percentuale_clienti_spendono_di_piu * importo_extra\n",
        "\n",
        "    # Guadagno totale per cliente acquisito con Groupon\n",
        "    guadagno_totale_per_cliente = guadagno_groupon + guadagno_extra\n",
        "\n",
        "    # Calcolo del guadagno a lungo termine dai clienti che tornano (CLV)\n",
        "    guadagno_da_clienti_che_ritornano = percentuale_clienti_che_ritornano * profitto_annuo_per_cliente * (retention_rate / (1 + discount_rate - retention_rate))\n",
        "\n",
        "    # Guadagno totale\n",
        "    guadagno_totale = guadagno_totale_per_cliente + guadagno_da_clienti_che_ritornano\n",
        "\n",
        "    return guadagno_totale\n",
        "\n"
      ]
    },
    {
      "cell_type": "markdown",
      "source": [
        "Vediamo alcune simulazioni"
      ],
      "metadata": {
        "id": "uqLoryrQ3CIb"
      }
    },
    {
      "cell_type": "code",
      "source": [
        "for x in range(1,11):\n",
        "  risultato = simulate_iteration()\n",
        "  print(f\"Risultato {x}: {risultato}\")"
      ],
      "metadata": {
        "id": "aXQkFurY3FXH"
      },
      "execution_count": null,
      "outputs": []
    },
    {
      "cell_type": "code",
      "source": [
        "# Eseguiamo la simulazione Monte Carlo per 10.000 iterazioni\n",
        "numero_iterazioni = 10000\n",
        "risultati = [simulate_iteration() for _ in range(numero_iterazioni)]\n",
        "\n",
        "# Calcoliamo alcune statistiche di base sui risultati\n",
        "media_guadagno = sum(risultati) / numero_iterazioni\n",
        "percentile_25 = sorted(risultati)[int(0.25 * numero_iterazioni)]\n",
        "percentile_50 = sorted(risultati)[int(0.50 * numero_iterazioni)]\n",
        "percentile_75 = sorted(risultati)[int(0.75 * numero_iterazioni)]\n",
        "\n",
        "media_guadagno, percentile_25, percentile_50, percentile_75"
      ],
      "metadata": {
        "id": "CVRLJqWs3CqY"
      },
      "execution_count": null,
      "outputs": []
    },
    {
      "cell_type": "markdown",
      "source": [
        "# Distribuzione dei guadagni per cliente acquisito tramite Groupon\n",
        "\n",
        "*   List item\n",
        "*   List item\n",
        "\n"
      ],
      "metadata": {
        "id": "ViK77Tpg3t_3"
      }
    },
    {
      "cell_type": "code",
      "source": [
        "import matplotlib.pyplot as plt\n",
        "\n",
        "# Creazione dell'istogramma\n",
        "plt.figure(figsize=(10, 6))\n",
        "plt.hist(risultati, bins=100, color='blue', alpha=0.7)\n",
        "plt.xlabel('Guadagno (€)')\n",
        "plt.ylabel('Numero di simulazioni')\n",
        "plt.grid(False)\n",
        "plt.axvline(media_guadagno, color='red', linestyle='dashed', linewidth=1, label=f'Media: €{media_guadagno:.2f}')\n",
        "plt.axvline(percentile_25, color='green', linestyle='dashed', linewidth=1, label=f'25° percentile: €{percentile_25:.2f}')\n",
        "plt.axvline(percentile_50, color='yellow', linestyle='dashed', linewidth=1, label=f'Mediana: €{percentile_50:.2f}')\n",
        "plt.axvline(percentile_75, color='purple', linestyle='dashed', linewidth=1, label=f'75° percentile: €{percentile_75:.2f}')\n",
        "plt.legend()\n",
        "plt.show()\n"
      ],
      "metadata": {
        "id": "FL3Dm10Z3wUv"
      },
      "execution_count": null,
      "outputs": []
    },
    {
      "cell_type": "markdown",
      "source": [
        "# Probabilitá di superare il break even"
      ],
      "metadata": {
        "id": "QljJElwE4WYL"
      }
    },
    {
      "cell_type": "code",
      "source": [
        "# Calcolo della probabilità che la prima versione di parametri dia un guadagno superiore a 0\n",
        "probabilita_guadagno_superiore_0 = sum(1 for risultato in risultati if risultato > 0) / numero_iterazioni\n",
        "print(probabilita_guadagno_superiore_0)\n"
      ],
      "metadata": {
        "id": "aphLUX-i3xEk"
      },
      "execution_count": null,
      "outputs": []
    },
    {
      "cell_type": "code",
      "source": [],
      "metadata": {
        "id": "ZLoEEsmq4cYy"
      },
      "execution_count": null,
      "outputs": []
    }
  ]
}