{
 "cells": [
  {
   "cell_type": "markdown",
   "metadata": {},
   "source": [
    "[![Open In Colab](https://colab.research.google.com/assets/colab-badge.svg)](https://colab.research.google.com/github/alesaccoia/IULM_DDM2324_Notebooks/blob/main/06_calcolo_bdi_cdi.ipynb)"
   ]
  },
  {
   "cell_type": "markdown",
   "metadata": {},
   "source": [
    "# Esercizio calcolo BDI/CDI (sezione 3.2.2 del libro)\n",
    "\n",
    "Si comincia importando il dataset"
   ]
  },
  {
   "cell_type": "code",
   "execution_count": null,
   "metadata": {},
   "outputs": [],
   "source": [
    "import pandas as pd\n",
    "import numpy as np\n",
    "import seaborn as sns\n",
    "import matplotlib.pyplot as plt\n",
    "\n",
    "df = pd.read_excel('data/calcolo_bdi_cdi.xlsx')\n",
    "print(df)"
   ]
  },
  {
   "cell_type": "markdown",
   "metadata": {},
   "source": [
    "Vediamo per prima cosa la dimensione del dataset"
   ]
  },
  {
   "cell_type": "code",
   "execution_count": null,
   "metadata": {},
   "outputs": [],
   "source": [
    "totale_campione = len(df)\n",
    "totale_campione"
   ]
  },
  {
   "cell_type": "markdown",
   "metadata": {},
   "source": [
    "Stampiamo a schermo i brand unici all'interno del dataset"
   ]
  },
  {
   "cell_type": "code",
   "execution_count": null,
   "metadata": {},
   "outputs": [],
   "source": [
    "target_brands = df['Brand'].unique()\n",
    "target_brands"
   ]
  },
  {
   "cell_type": "markdown",
   "metadata": {},
   "source": [
    "Ripuliamo la lista dal brand \"nan\", valore che indica che il consumatore non acquista nessun brand.\n",
    "\n",
    "Utilizza il caratteristico costrutto chiamato [list comprehension](https://www.w3schools.com/python/python_lists_comprehension.asp)"
   ]
  },
  {
   "cell_type": "code",
   "execution_count": null,
   "metadata": {},
   "outputs": [],
   "source": [
    "target_brands = [b for b in target_brands if b is not np.nan]\n",
    "target_brands"
   ]
  },
  {
   "cell_type": "markdown",
   "metadata": {},
   "source": [
    "Calcoliamo il totale di rispondenti che acquista un brand della categoria merceologica, di qualsiasi brand"
   ]
  },
  {
   "cell_type": "code",
   "execution_count": null,
   "metadata": {},
   "outputs": [],
   "source": [
    "totale_consumatori_categoria = len(df[df['Brand'].notnull()])\n",
    "totale_consumatori_categoria"
   ]
  },
  {
   "cell_type": "markdown",
   "metadata": {},
   "source": [
    "La penetrazione della categoria sulla popolazione é il rapporto tra il numero di consumatori che consuma e il totale di consumatori nel campione"
   ]
  },
  {
   "cell_type": "code",
   "execution_count": null,
   "metadata": {},
   "outputs": [],
   "source": [
    "penetrazione_categoria = totale_consumatori_categoria / totale_campione\n",
    "penetrazione_categoria"
   ]
  },
  {
   "cell_type": "markdown",
   "metadata": {},
   "source": [
    "Possiamo calcolare le proporzioni di persone del campione che acquistano ogni brand nell'analisi nel seguente modo"
   ]
  },
  {
   "cell_type": "code",
   "execution_count": null,
   "metadata": {},
   "outputs": [],
   "source": [
    "penetrazione_brand = df['Brand'].value_counts()\n",
    "penetrazione_brand / totale_campione"
   ]
  },
  {
   "cell_type": "markdown",
   "metadata": {},
   "source": [
    "## Calcolo del CDI\n",
    "\n",
    "Il CDI é calcolato il tasso di penetrazione della categoria merceologica su ognuna delle dimensioni in esame, indicizzato a 100.\n",
    "\n",
    "Risponde alla domanda \"Quante persone appartenenti a ognuno dei segmenti target consumano abitualmente tonno in scatola?\""
   ]
  },
  {
   "cell_type": "markdown",
   "metadata": {},
   "source": [
    "Vediamo i segmenti unici presenti dentro il nostro dataset"
   ]
  },
  {
   "cell_type": "code",
   "execution_count": null,
   "metadata": {},
   "outputs": [],
   "source": [
    "\n",
    "segmenti_target = df['Segmento'].unique().tolist()\n",
    "segmenti_target"
   ]
  },
  {
   "cell_type": "markdown",
   "metadata": {},
   "source": [
    "Vediamo il numero di persone appartenenti a ogni segmento"
   ]
  },
  {
   "cell_type": "code",
   "execution_count": null,
   "metadata": {},
   "outputs": [],
   "source": [
    "\n",
    "rispondenti_per_segmento = df['Segmento'].value_counts()\n",
    "rispondenti_per_segmento"
   ]
  },
  {
   "cell_type": "markdown",
   "metadata": {},
   "source": [
    "Vediamoli in un grafico"
   ]
  },
  {
   "cell_type": "code",
   "execution_count": null,
   "metadata": {},
   "outputs": [],
   "source": [
    "plt.hist(df['Segmento'])\n",
    "plt.plot()"
   ]
  },
  {
   "cell_type": "markdown",
   "metadata": {},
   "source": [
    "Ora dediamo il numero di persone appartenenti a ogni segmento __che acquista tonno in scatola__"
   ]
  },
  {
   "cell_type": "code",
   "execution_count": null,
   "metadata": {},
   "outputs": [],
   "source": [
    "consumatori_per_segmento = df[df['Brand'].notnull()]['Segmento'].value_counts()\n",
    "consumatori_per_segmento"
   ]
  },
  {
   "cell_type": "markdown",
   "metadata": {},
   "source": [
    "Salviamo in una variabile la diffusione del tonno in scatola in ogni segmento"
   ]
  },
  {
   "cell_type": "code",
   "execution_count": null,
   "metadata": {},
   "outputs": [],
   "source": [
    "diffusione_per_segmento = pd.Series()\n",
    "for seg in segmenti_target:\n",
    "    diffusione_per_segmento[seg] = consumatori_per_segmento[seg] / rispondenti_per_segmento[seg]\n",
    "\n",
    "diffusione_per_segmento"
   ]
  },
  {
   "cell_type": "markdown",
   "metadata": {},
   "source": [
    "Per indicizzare un indicatore a 100 si divide ogni numero per la media sulla popolazione (o campione)"
   ]
  },
  {
   "cell_type": "code",
   "execution_count": null,
   "metadata": {},
   "outputs": [],
   "source": [
    "cdi = 100.0 * diffusione_per_segmento / penetrazione_categoria\n",
    "cdi"
   ]
  },
  {
   "cell_type": "markdown",
   "metadata": {},
   "source": [
    "# Calcolo del BDI\n",
    "\n",
    "Il Brand Development Index indica quanto ogni marca sia diffusa in una determinata dimensione di analisi (un segmento nel nostro caso) rispetto alla penetrazione del brand nell'intera popolazione. Cominciamo salvando la diffusione del brand nella popolazione con la seguente istruzione:"
   ]
  },
  {
   "cell_type": "code",
   "execution_count": null,
   "metadata": {},
   "outputs": [],
   "source": [
    "diffusione_brand_popolazione = df['Brand'].value_counts()\n",
    "diffusione_brand_popolazione = diffusione_brand_popolazione / len(df)\n",
    "diffusione_brand_popolazione"
   ]
  },
  {
   "cell_type": "markdown",
   "metadata": {},
   "source": [
    "il seguente codice itera su tutte le permutazioni di brand/segmento, calcolando il BDI (che é la diffusione di un brand in un determinato segmento, indicizzata sulla diffusione del brand nell'intero campione)"
   ]
  },
  {
   "cell_type": "code",
   "execution_count": null,
   "metadata": {},
   "outputs": [],
   "source": [
    "# Create a DataFrame for the results\n",
    "results_df = pd.DataFrame(columns=['brand', 'segmento', 'consumatori_per_brand_e_segmento', 'consumatori_per_segmento', 'diffusione_brand_nel_segmento', 'diffusione_brand_popolazione', 'BDI', 'CDI'])\n",
    "\n",
    "rows_list = []\n",
    "\n",
    "for brand in target_brands:\n",
    "    for segmento in segmenti_target:\n",
    "        # qui prendiamo il numero di consumatori del nostro segmento che acquistano regolarmente il brand\n",
    "        consumatori_per_brand_e_segmento = len(df[(df['Brand'] == brand) & (df['Segmento'] == segmento)])\n",
    "        # il numero di consumatori totali di questo segmento é giá in \"rispondenti_per_segmento\", da qui possiamo sapere la diffusione del brand nel segmento\n",
    "        diffusione_brand_nel_segmento = consumatori_per_brand_e_segmento / rispondenti_per_segmento[segmento]\n",
    "        # la diffusione del brand nell'intera popolazione é in diffusione_brand_popolazione, quindi possiamo calcolare il bdi\n",
    "\n",
    "        bdi = 100.0 * diffusione_brand_nel_segmento / diffusione_brand_popolazione[brand]\n",
    "\n",
    "        row = {\n",
    "            'brand': brand,\n",
    "            'segmento': segmento,\n",
    "            'consumatori_per_brand_e_segmento': consumatori_per_brand_e_segmento,\n",
    "            'consumatori_per_segmento': consumatori_per_segmento[segmento],\n",
    "            'diffusione_brand_nel_segmento': diffusione_brand_nel_segmento,\n",
    "            'diffusione_brand_popolazione': diffusione_brand_popolazione[brand],\n",
    "            'BDI': bdi,\n",
    "            'CDI': cdi[segmento],\n",
    "        }\n",
    "        rows_list.append(row)\n",
    "\n",
    "results_df = pd.concat([results_df, pd.DataFrame(rows_list)], ignore_index=True)\n",
    "results_df"
   ]
  },
  {
   "cell_type": "code",
   "execution_count": null,
   "metadata": {},
   "outputs": [],
   "source": [
    "results_df['BDI_CDI'] = results_df.BDI / results_df.CDI"
   ]
  },
  {
   "cell_type": "markdown",
   "metadata": {},
   "source": [
    "Come ultima cosa, per esportare in excel, \"pivottiamo\" mantenendo sulle righe i segmenti target e sulle colonne i brand"
   ]
  },
  {
   "cell_type": "code",
   "execution_count": null,
   "metadata": {},
   "outputs": [],
   "source": [
    "pivoted_df = results_df.pivot_table(index='segmento', \n",
    "                                   columns='brand', \n",
    "                                   values=['BDI', 'CDI', 'BDI_CDI'], \n",
    "                                   aggfunc='first')\n",
    "\n",
    "pivoted_df"
   ]
  },
  {
   "cell_type": "code",
   "execution_count": null,
   "metadata": {},
   "outputs": [],
   "source": [
    "pivoted_df.to_excel('pivoted_df.xlsx')"
   ]
  }
 ],
 "metadata": {
  "kernelspec": {
   "display_name": "Python 3",
   "language": "python",
   "name": "python3"
  },
  "language_info": {
   "codemirror_mode": {
    "name": "ipython",
    "version": 3
   },
   "file_extension": ".py",
   "mimetype": "text/x-python",
   "name": "python",
   "nbconvert_exporter": "python",
   "pygments_lexer": "ipython3",
   "version": "3.9.17"
  },
  "orig_nbformat": 4
 },
 "nbformat": 4,
 "nbformat_minor": 2
}
