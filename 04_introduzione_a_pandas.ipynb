{
 "cells": [
  {
   "cell_type": "markdown",
   "metadata": {},
   "source": [
    "[![Open In Colab](https://colab.research.google.com/assets/colab-badge.svg)](https://colab.research.google.com/github/alesaccoia/IULM_DDM2324_Notebooks/blob/main/04_introduzione_a_pandas.ipynb)"
   ]
  },
  {
   "cell_type": "markdown",
   "metadata": {},
   "source": [
    "# Introduzione a Pandas\n",
    "Pandas è una libreria Python open source che fornisce strutture dati e strumenti di analisi dei dati, ad alte prestazioni e facili da usare."
   ]
  },
  {
   "cell_type": "markdown",
   "metadata": {},
   "source": [
    "# Installazione"
   ]
  },
  {
   "cell_type": "code",
   "execution_count": null,
   "metadata": {},
   "outputs": [],
   "source": [
    "!pip install pandas\n"
   ]
  },
  {
   "cell_type": "markdown",
   "metadata": {},
   "source": [
    "# Importazione della libreria\n",
    "L'alias classico é \"pd\""
   ]
  },
  {
   "cell_type": "code",
   "execution_count": null,
   "metadata": {},
   "outputs": [],
   "source": [
    "import pandas as pd"
   ]
  },
  {
   "cell_type": "markdown",
   "metadata": {},
   "source": [
    "# Creazione di DataFrames\n",
    "Un DataFrame è una struttura a 2 dimensioni simile a un foglio di calcolo o a una tabella SQL.\n",
    "\n",
    "## Creazione da un dizionario"
   ]
  },
  {
   "cell_type": "code",
   "execution_count": null,
   "metadata": {},
   "outputs": [],
   "source": [
    "data = {\n",
    "    'Nome': ['Anna', 'Marco', 'Giulia', 'Luca'],\n",
    "    'Età': [25, 30, 29, 27],\n",
    "    'Città': ['Roma', 'Milano', 'Napoli', 'Torino']\n",
    "}\n",
    "\n",
    "df = pd.DataFrame(data)\n",
    "\n",
    "print(df)"
   ]
  },
  {
   "cell_type": "markdown",
   "metadata": {},
   "source": [
    "## Lettura da File"
   ]
  },
  {
   "cell_type": "code",
   "execution_count": null,
   "metadata": {},
   "outputs": [],
   "source": [
    "# Supponendo di avere un file 'data.csv'\n",
    "df = pd.read_csv('data/sample_data.csv')\n",
    "\n",
    "# Lettura da un file Excel\n",
    "# df_from_excel = pd.read_excel('data.xlsx', sheet_name='Sheet1')\n",
    "\n",
    "print(df)"
   ]
  },
  {
   "cell_type": "markdown",
   "metadata": {},
   "source": [
    "# Selezionare gli elementi del DataFrame\n",
    "\n",
    "## Selezionare le colonne\n",
    "\n",
    "In Pandas, hai due modi principali per accedere alle colonne di un DataFrame: usando la notazione con il punto (.) e usando la notazione con le parentesi quadre ([]).\n",
    "\n",
    "### Notazione .nome_colonna\n",
    "Quando il nome della colonna è un identificatore valido (ossia segue le regole per i nomi delle variabili in Python), puoi utilizzare la notazione con il punto:"
   ]
  },
  {
   "cell_type": "code",
   "execution_count": null,
   "metadata": {},
   "outputs": [],
   "source": [
    "print(df.Nome)"
   ]
  },
  {
   "cell_type": "markdown",
   "metadata": {},
   "source": [
    "#### Vantaggi:\n",
    "\n",
    "Più breve e più leggibile (quando è possibile).\n",
    "\n",
    "#### Svantaggi:\n",
    "\n",
    "Non funziona se il nome della colonna contiene spazi o caratteri speciali.\n",
    "\n",
    "Potrebbe entrare in conflitto con i metodi o gli attributi esistenti di un DataFrame. Ad esempio, un DataFrame potrebbe avere un metodo chiamato sum e una colonna chiamata sum. In tal caso, df.sum si riferirà al metodo, non alla colonna."
   ]
  },
  {
   "cell_type": "markdown",
   "metadata": {},
   "source": [
    "### Notazione ['nome_colonna']\n",
    "\n",
    "La notazione con le parentesi quadre è più flessibile e consente di accedere a colonne con qualsiasi nome:"
   ]
  },
  {
   "cell_type": "code",
   "execution_count": null,
   "metadata": {},
   "outputs": [],
   "source": [
    "print(df['Nome'])"
   ]
  },
  {
   "cell_type": "markdown",
   "metadata": {},
   "source": [
    "#### Vantaggi\n",
    "\n",
    "Funziona con qualsiasi nome di colonna, anche se contiene spazi o caratteri speciali.\n",
    "Non c'è rischio di conflitto con metodi o attributi esistenti del DataFrame.\n",
    "\n",
    "#### Svantaggi\n",
    "\n",
    "Richiede più caratteri rispetto alla notazione con il punto."
   ]
  },
  {
   "cell_type": "markdown",
   "metadata": {},
   "source": [
    "### Considerazioni aggiuntive\n",
    "\n",
    "Se hai bisogno di accedere a più di una colonna contemporaneamente, devi usare la notazione con le parentesi quadre: df[['age', 'city']].\n",
    "La notazione con il punto restituisce una vista sulla colonna, quindi modifiche apportate alla Serie restituita si rifletteranno nel DataFrame originale (ma fai attenzione quando reassegni l'intera Serie, perché potresti rompere il collegamento).\n",
    "\n",
    "La notazione con le parentesi quadre quando si accede a una singola colonna (ad es. df['age']) restituisce anch'essa una vista. Tuttavia, quando si accede a più colonne (ad es. df[['age', 'city']]), viene restituita una copia."
   ]
  },
  {
   "cell_type": "markdown",
   "metadata": {},
   "source": [
    "\n",
    "## Slicing del DataFrame: loc e iloc\n",
    "\n",
    "- loc è basato su etichette, cioè nomi di colonne/indice.\n",
    "- iloc è basato su posizioni intere.\n"
   ]
  },
  {
   "cell_type": "code",
   "execution_count": null,
   "metadata": {},
   "outputs": [],
   "source": [
    "# Usare loc per selezionare per etichetta\n",
    "print(df.loc[1, \"Nome\"])  # Restituisce 'Anna'\n",
    "\n",
    "# Usare iloc per selezionare per posizione\n",
    "print(df.iloc[1, 0])  # Restituisce 'Anna'\n"
   ]
  },
  {
   "cell_type": "markdown",
   "metadata": {},
   "source": [
    "# All'interno del DataFrame\n",
    "Le colonne di un DataFrame sono oggetti Series. Ogni \"Serie\" è praticamente un array unidimensionale."
   ]
  },
  {
   "cell_type": "code",
   "execution_count": null,
   "metadata": {},
   "outputs": [],
   "source": [
    "# Selezionare una colonna\n",
    "s = df['Nome']\n",
    "print(type(s))\n",
    "print(s)\n"
   ]
  },
  {
   "cell_type": "markdown",
   "metadata": {},
   "source": [
    "# Modifica di un DataFrame"
   ]
  },
  {
   "cell_type": "code",
   "execution_count": null,
   "metadata": {},
   "outputs": [],
   "source": [
    "# Aggiungere una nuova colonna\n",
    "df['Lavoro'] = ['Ingegnere', 'Designer', 'Medico', 'Avvocato', 'Informatico']\n",
    "\n",
    "# Modificare valori specifici\n",
    "df.at[0, 'Nome'] = 'Giovanni'\n",
    "\n",
    "# Rinominare colonne\n",
    "df.rename(columns={\"Nome\": \"Nome Completo\"}, inplace=True)\n",
    "\n",
    "df\n"
   ]
  },
  {
   "cell_type": "markdown",
   "metadata": {},
   "source": [
    "# Passare DataFrame come Argomenti\n",
    "Se si passa un DataFrame a una funzione, è importante capire come vengono gestite le modifiche all'interno della funzione."
   ]
  },
  {
   "cell_type": "code",
   "execution_count": null,
   "metadata": {},
   "outputs": [],
   "source": [
    "def modify_dataframe(dataframe):\n",
    "    dataframe['Età'] += 1\n",
    "    return dataframe\n",
    "\n",
    "# Chiamare la funzione\n",
    "new_df = modify_dataframe(df)\n",
    "\n"
   ]
  },
  {
   "cell_type": "markdown",
   "metadata": {},
   "source": [
    "df avrà le età aggiornate anche se non era l'intento"
   ]
  },
  {
   "cell_type": "code",
   "execution_count": null,
   "metadata": {},
   "outputs": [],
   "source": [
    "df"
   ]
  },
  {
   "cell_type": "markdown",
   "metadata": {},
   "source": [
    "## Selezionare più colonne"
   ]
  },
  {
   "cell_type": "code",
   "execution_count": null,
   "metadata": {},
   "outputs": [],
   "source": [
    "## Selezionare più colonne utilizzando una lista di nomi di colonne\n",
    "subset = df[['Nome Completo', 'Cittá']]\n",
    "print(subset)\n"
   ]
  },
  {
   "cell_type": "markdown",
   "metadata": {},
   "source": [
    "## Selezionare righe e colonne contemporaneamente"
   ]
  },
  {
   "cell_type": "code",
   "execution_count": null,
   "metadata": {},
   "outputs": [],
   "source": [
    "# Usando iloc\n",
    "print(df.iloc[0:2, 1:3])  # Prende le prime 2 righe e la colonna 2 e 3\n",
    "\n",
    "# Usando loc\n",
    "print(df.loc[0:2, ['Età', 'Cittá']])\n"
   ]
  },
  {
   "cell_type": "markdown",
   "metadata": {},
   "source": [
    "# Convenzione per nominare le colonne\n",
    "\n",
    "Durante questo corso cercheremo, ove possibile, di nominare le colonne in pandas con un nome inglese e in 'lowercase': ammettiamo come caratteri speciali solo ed esclusivamente l'underscore.\n",
    "\n",
    "Esempio:"
   ]
  },
  {
   "cell_type": "code",
   "execution_count": null,
   "metadata": {},
   "outputs": [],
   "source": [
    "# L'argomento inplace=True faccia sí che le modifiche vengano salvate senza bisogno di riassegnare la variabile\n",
    "df.rename(columns={\"Nome Completo\": \"name\",\n",
    "                   \"Cittá\": \"city\",\n",
    "                   \"Età\": \"age\",\n",
    "                   \"Lavoro\": \"job\" }, inplace=True)\n",
    "df\n"
   ]
  },
  {
   "cell_type": "markdown",
   "metadata": {},
   "source": [
    "# Iterare su Righe e Colonne\n",
    "\n",
    "Pandas fornisce metodi come iterrows() e items() per iterare attraverso il DataFrame."
   ]
  },
  {
   "cell_type": "code",
   "execution_count": null,
   "metadata": {},
   "outputs": [],
   "source": [
    "# Iterare su righe usando iterrows\n",
    "for index, row in df.iterrows():\n",
    "    print(row['name'], row['city'])\n",
    "\n"
   ]
  },
  {
   "cell_type": "code",
   "execution_count": null,
   "metadata": {},
   "outputs": [],
   "source": [
    "# Iterare su colonne usando iteritems\n",
    "for label, content in df.items():\n",
    "    print('Colonna:', label)\n",
    "    print('Contenuto:', content)"
   ]
  },
  {
   "cell_type": "markdown",
   "metadata": {},
   "source": [
    "## Nota importante!\n",
    "\n",
    "iterrows() è un metodo generatore che restituisce un indice e una Serie per ogni riga. Tuttavia, è importante ricordare che le operazioni fatte sulla Serie restituita da iterrows() non modificano il DataFrame originale. Questo è perché la Serie restituita è una copia dei dati, non una vista sul DataFrame originale. Pertanto, se desideri effettuare modifiche, dovresti utilizzare l'indice per fare riferimento alla riga originale."
   ]
  },
  {
   "cell_type": "code",
   "execution_count": null,
   "metadata": {},
   "outputs": [],
   "source": [
    "# Tentativo di modifica usando iterrows()\n",
    "for index, row in df.iterrows():\n",
    "    row['name'] = row['name'].upper()\n",
    "\n",
    "df # Non vedremo le modifiche"
   ]
  },
  {
   "cell_type": "code",
   "execution_count": null,
   "metadata": {},
   "outputs": [],
   "source": [
    "# Modifica corretta usando iterrows()\n",
    "for index, row in df.iterrows():\n",
    "    df.at[index, 'name'] = row['name'].upper()\n",
    "\n",
    "print(df)  # Ora le modifiche sono visibili"
   ]
  },
  {
   "cell_type": "markdown",
   "metadata": {},
   "source": [
    "items() itera sulle colonne, restituendo ogni volta una coppia composta dal nome della colonna e il contenuto della colonna come una Serie. Anche in questo caso, la Serie restituita è una copia, quindi le modifiche alla Serie non modificheranno il DataFrame originale. Se vuoi modificare il contenuto, dovresti utilizzare il nome della colonna per fare riferimento al DataFrame originale."
   ]
  },
  {
   "cell_type": "code",
   "execution_count": null,
   "metadata": {},
   "outputs": [],
   "source": [
    "data = {\n",
    "    'name': ['Alice', 'Bob', 'Charlie'],\n",
    "    'city': ['Rome', 'Paris', 'London']\n",
    "}\n",
    "df_cities = pd.DataFrame(data)\n",
    "\n",
    "\n",
    "# Tentativo di modifica usando iteritems()\n",
    "for label, content in df_cities.items():\n",
    "    content = content.str.lower()  # Questo non modifica il DataFrame originale\n",
    "\n",
    "print(df_cities)  # Non vedremo le modifiche\n",
    "\n",
    "# Modifica corretta usando iteritems()\n",
    "for label, content in df_cities.items():\n",
    "    df_cities[label] = content.str.lower()\n",
    "\n",
    "print(df_cities)  # Ora le modifiche sono visibili\n"
   ]
  },
  {
   "cell_type": "markdown",
   "metadata": {},
   "source": [
    "# Usare Apply\n",
    "apply() è un potente strumento in Pandas che ti permette di applicare una funzione a ciascun elemento (o riga/colonna) del DataFrame.\n",
    "\n"
   ]
  },
  {
   "cell_type": "code",
   "execution_count": null,
   "metadata": {},
   "outputs": [],
   "source": [
    "def add_suffix(name):\n",
    "    return name + \"_suffix\"\n",
    "\n",
    "# Applicare la funzione a una colonna\n",
    "df['name'] = df['name'].apply(add_suffix)"
   ]
  },
  {
   "cell_type": "code",
   "execution_count": null,
   "metadata": {},
   "outputs": [],
   "source": [
    "df"
   ]
  }
 ],
 "metadata": {
  "kernelspec": {
   "display_name": "Python 3",
   "language": "python",
   "name": "python3"
  },
  "language_info": {
   "codemirror_mode": {
    "name": "ipython",
    "version": 3
   },
   "file_extension": ".py",
   "mimetype": "text/x-python",
   "name": "python",
   "nbconvert_exporter": "python",
   "pygments_lexer": "ipython3",
   "version": "3.9.17"
  },
  "orig_nbformat": 4
 },
 "nbformat": 4,
 "nbformat_minor": 2
}
