{
 "cells": [
  {
   "cell_type": "markdown",
   "metadata": {},
   "source": [
    "[![Open In Colab](https://colab.research.google.com/assets/colab-badge.svg)](https://colab.research.google.com/github/alesaccoia/IULM_DDM2324_Notebooks/blob/main/02_introduzione_a_python.ipynb)"
   ]
  },
  {
   "cell_type": "markdown",
   "metadata": {},
   "source": [
    "# Introduzione a Python"
   ]
  },
  {
   "cell_type": "markdown",
   "metadata": {},
   "source": [
    "## Istruzioni di import\n",
    "Puoi importare un modulo o una libreria in Python usando l'istruzione 'import'"
   ]
  },
  {
   "cell_type": "code",
   "execution_count": null,
   "metadata": {},
   "outputs": [],
   "source": [
    "import math\n",
    "# Ad esempio, ora possiamo utilizzare funzioni dalla libreria math\n",
    "print(math.sqrt(25))"
   ]
  },
  {
   "cell_type": "code",
   "execution_count": null,
   "metadata": {},
   "outputs": [],
   "source": [
    "# Se desideri importare solo alcune funzioni o classi da un modulo, puoi utilizzare \"from ... import ...\"\n",
    "from math import sqrt\n",
    "\n",
    "# Ora puoi utilizzare direttamente la funzione sqrt() senza il prefisso math.\n",
    "print(sqrt(25))"
   ]
  },
  {
   "cell_type": "markdown",
   "metadata": {},
   "source": [
    "## Variabili e literals"
   ]
  },
  {
   "cell_type": "code",
   "execution_count": null,
   "metadata": {},
   "outputs": [],
   "source": [
    "numero = 5\n",
    "parola = \"Ciao, mondo!\"\n",
    "\n",
    "print(numero)\n",
    "print(parola)"
   ]
  },
  {
   "cell_type": "markdown",
   "metadata": {},
   "source": [
    "## Tipi di dato elementari"
   ]
  },
  {
   "cell_type": "code",
   "execution_count": null,
   "metadata": {},
   "outputs": [],
   "source": [
    "# Intero\n",
    "x = 5\n",
    "\n",
    "# Floating point (Decimale)\n",
    "y = 5.5\n",
    "\n",
    "# Stringa\n",
    "nome = \"Mario\"\n",
    "\n",
    "# Booleano\n",
    "is_true = True  # Oppure False"
   ]
  },
  {
   "cell_type": "markdown",
   "metadata": {},
   "source": [
    "## Funzioni\n",
    "Una funzione è un blocco di codice che esegue una specifica operazione."
   ]
  },
  {
   "cell_type": "code",
   "execution_count": null,
   "metadata": {},
   "outputs": [],
   "source": [
    "def saluta(nome):\n",
    "    return \"Ciao, \" + nome + \"!\"\n",
    "\n",
    "print(saluta(\"Luca\"))"
   ]
  },
  {
   "cell_type": "markdown",
   "metadata": {},
   "source": [
    "## Classi\n",
    "Una classe è un modello o un blueprint per creare oggetti."
   ]
  },
  {
   "cell_type": "code",
   "execution_count": null,
   "metadata": {},
   "outputs": [],
   "source": [
    "class Persona:\n",
    "    def __init__(self, nome):\n",
    "        self.nome = nome\n",
    "\n",
    "    def saluta(self):\n",
    "        return \"Ciao, \" + self.nome + \"!\"\n",
    "\n",
    "persona = Persona(\"Luca\")\n",
    "print(persona.saluta())\n",
    "\n",
    "persona = Persona(\"Mario\")\n",
    "print(persona.saluta())\n"
   ]
  },
  {
   "cell_type": "markdown",
   "metadata": {},
   "source": [
    "## Liste\n",
    "Una lista è una raccolta ordinata di elementi."
   ]
  },
  {
   "cell_type": "code",
   "execution_count": null,
   "metadata": {},
   "outputs": [],
   "source": [
    "nodi = [1, 2, 3, \"ciao\", [\"a\", {\"foo\": 5}]]\n",
    "print(nodi[2])  # Stampa il terzo elemento: 3"
   ]
  },
  {
   "cell_type": "markdown",
   "metadata": {},
   "source": [
    "## Dizionari\n",
    "Un dizionario è una raccolta non ordinata di dati in un formato chiave:valore."
   ]
  },
  {
   "cell_type": "code",
   "execution_count": null,
   "metadata": {},
   "outputs": [],
   "source": [
    "studente = {\n",
    "    \"nome\": \"Luca\",\n",
    "    \"età\": 20,\n",
    "    \"corso\": \"Informatica\"\n",
    "}\n",
    "\n",
    "print(studente[\"nome\"])  # Stampa \"Luca\""
   ]
  },
  {
   "cell_type": "markdown",
   "metadata": {},
   "source": [
    "## Insiemi\n",
    "Un insieme (set) é un insieme non ordinato di elementi unici"
   ]
  },
  {
   "cell_type": "code",
   "execution_count": null,
   "metadata": {},
   "outputs": [],
   "source": [
    "insieme_maschi = set([\"marco\", \"giovanni\", \"alessandro\"])\n",
    "insieme_femmine = set([\"laura\", \"giulia\", \"caterina\"])\n",
    "\n",
    "print(insieme_maschi)\n",
    "print(insieme_femmine)"
   ]
  },
  {
   "cell_type": "code",
   "execution_count": null,
   "metadata": {},
   "outputs": [],
   "source": [
    "insieme_maschi.add(\"alessandro\") # aggiungendo un elemento giá esistente, il contenuto non cambia\n",
    "print(insieme_maschi) "
   ]
  },
  {
   "cell_type": "code",
   "execution_count": null,
   "metadata": {},
   "outputs": [],
   "source": [
    "print(insieme_maschi.union(insieme_femmine)) # stampa l'unione dei due insiemi\n",
    "print(insieme_maschi.intersection(insieme_femmine)) # stampa l'intersezione dei due insiemi, vuota in quanto disgiunti"
   ]
  },
  {
   "cell_type": "markdown",
   "metadata": {},
   "source": [
    "## Cicli (loop)\n",
    "I cicli servono per iterare su valori o variabili"
   ]
  },
  {
   "cell_type": "code",
   "execution_count": null,
   "metadata": {},
   "outputs": [],
   "source": [
    "# For loop\n",
    "for i in range(5):  # Stampa i numeri da 0 a 4\n",
    "    print(i)\n",
    "\n",
    "# For loop\n",
    "for i in range(2, 5):  # Stampa i numeri da 2 a 4\n",
    "    print(i)\n",
    "\n",
    "# While loop\n",
    "count = 0\n",
    "while count < 5:\n",
    "    print(count)\n",
    "    count += 1\n",
    "\n",
    "# Enumerate\n",
    "nodi = [\"a\", \"b\", \"c\"]\n",
    "for index, nodo in enumerate(nodi):\n",
    "    print(index, nodo)"
   ]
  },
  {
   "cell_type": "markdown",
   "metadata": {},
   "source": [
    "## Espressioni condizionali\n",
    "In Python, i condizionali permettono di eseguire determinati blocchi di codice in base alla veridicità di una condizione.\n",
    "\n",
    "L'operatore \"==\" confronta se due valori sono uguali, mentre \"!=\" controlla se sono diversi."
   ]
  },
  {
   "cell_type": "code",
   "execution_count": null,
   "metadata": {},
   "outputs": [],
   "source": [
    "x = 10\n",
    "y = 5\n",
    "\n",
    "if x == 10:\n",
    "    print(\"x è uguale a 10\")\n",
    "    \n",
    "if y != 10:\n",
    "    print(\"y non è uguale a 10\")"
   ]
  },
  {
   "cell_type": "markdown",
   "metadata": {},
   "source": [
    "Oltre a \"==\"\" e \"!=\", ci sono altri operatori di confronto:"
   ]
  },
  {
   "cell_type": "code",
   "execution_count": null,
   "metadata": {},
   "outputs": [],
   "source": [
    "# >: maggiore di\n",
    "# <: minore di\n",
    "# >=: maggiore o uguale a\n",
    "# <=: minore o uguale a\n",
    "\n",
    "if x > y:\n",
    "    print(\"x è maggiore di y\")"
   ]
  },
  {
   "cell_type": "markdown",
   "metadata": {},
   "source": [
    "Possiamo combinare più condizioni usando gli operatori logici \"and\" e \"or\"."
   ]
  },
  {
   "cell_type": "code",
   "execution_count": null,
   "metadata": {},
   "outputs": [],
   "source": [
    "z = 15\n",
    "\n",
    "if x > y and z > y:\n",
    "    print(\"Sia x che z sono maggiori di y\")\n",
    "\n",
    "if x < y or z > y:\n",
    "    print(\"O x è minore di y o z è maggiore di y, o entrambe le cose\")"
   ]
  },
  {
   "cell_type": "markdown",
   "metadata": {},
   "source": [
    "\"elif\" e \"else\" permettono di gestire condizioni multiple e un caso di default:"
   ]
  },
  {
   "cell_type": "code",
   "execution_count": null,
   "metadata": {},
   "outputs": [],
   "source": [
    "if x > 10:\n",
    "    print(\"x è maggiore di 10\")\n",
    "elif x < 10:\n",
    "    print(\"x è minore di 10\")\n",
    "else:\n",
    "    print(\"x è uguale a 10\")"
   ]
  },
  {
   "cell_type": "markdown",
   "metadata": {},
   "source": [
    "Un altro operatore logico utilizzato in Python è \"not\", che inverte il valore booleano di una condizione:"
   ]
  },
  {
   "cell_type": "code",
   "execution_count": null,
   "metadata": {},
   "outputs": [],
   "source": [
    "if not x == 10:\n",
    "    print(\"x non è uguale a 10\")\n",
    "else:\n",
    "    print(\"x è uguale a 10\")"
   ]
  },
  {
   "cell_type": "markdown",
   "metadata": {},
   "source": [
    "## Valori Nulli (None) in Python\n",
    "In Python, il termine \"nullo\" è rappresentato dal valore speciale None. Esso indica l'assenza di valore o la mancanza di definizione. None è spesso usato per dichiarare una variabile che potrebbe ricevere un valore in futuro ma che inizialmente non ha alcun valore assegnato."
   ]
  },
  {
   "cell_type": "code",
   "execution_count": null,
   "metadata": {},
   "outputs": [],
   "source": [
    "variabile_nulla = None\n",
    "\n",
    "# Verifica se una variabile è nulla\n",
    "if variabile_nulla is None:\n",
    "    print(\"La variabile è nulla.\")\n",
    "else:\n",
    "    print(\"La variabile ha un valore.\")"
   ]
  },
  {
   "cell_type": "markdown",
   "metadata": {},
   "source": [
    "È importante notare che None è un tipo di dato a sé stante, diverso da, per esempio, zero (0) o una stringa vuota (\"\")."
   ]
  },
  {
   "cell_type": "markdown",
   "metadata": {},
   "source": [
    "## Scope delle Variabili in Python\n",
    "Lo \"scope\" di una variabile si riferisce al contesto in cui una variabile è definita e può essere utilizzata. In Python, le variabili possono avere uno scope locale o globale."
   ]
  },
  {
   "cell_type": "markdown",
   "metadata": {},
   "source": [
    "### Variabile Locale\n",
    "Una variabile dichiarata all'interno di una funzione ha uno scope locale. Questo significa che può essere utilizzata solo all'interno di quella funzione e non è accessibile al di fuori di essa."
   ]
  },
  {
   "cell_type": "code",
   "execution_count": null,
   "metadata": {},
   "outputs": [],
   "source": [
    "def mia_funzione():\n",
    "    variabile_locale = \"Sono locale\"\n",
    "    print(variabile_locale)\n",
    "\n",
    "mia_funzione()"
   ]
  },
  {
   "cell_type": "code",
   "execution_count": null,
   "metadata": {},
   "outputs": [],
   "source": [
    "print(variabile_locale) # Questo causerà un errore perché la variabile_locale non è definita al di fuori della funzione\n"
   ]
  },
  {
   "cell_type": "markdown",
   "metadata": {},
   "source": [
    "### Variabile Globale\n",
    "Una variabile dichiarata al di fuori di una funzione ha uno scope globale, il che significa che può essere utilizzata sia all'interno che all'esterno delle funzioni."
   ]
  },
  {
   "cell_type": "code",
   "execution_count": null,
   "metadata": {},
   "outputs": [],
   "source": [
    "variabile_globale = \"Sono globale\"\n",
    "\n",
    "def mia_funzione():\n",
    "    print(variabile_globale) # Questo è permesso\n",
    "\n",
    "mia_funzione()\n",
    "print(variabile_globale) # Anche questo è permesso\n"
   ]
  },
  {
   "cell_type": "markdown",
   "metadata": {},
   "source": [
    "# Passaggio degli argomenti\n",
    "In Python, tutto è un oggetto e gli argomenti vengono passati per riferimento. Questo significa che quando passi un oggetto come argomento a una funzione, in realtà stai passando un riferimento a quell'oggetto, non una sua copia. Vediamo un esempio semplice utilizzando una lista:"
   ]
  },
  {
   "cell_type": "code",
   "execution_count": null,
   "metadata": {},
   "outputs": [],
   "source": [
    "def modify_list(lst):\n",
    "    lst.append(4)\n",
    "\n",
    "my_list = [1, 2, 3]\n",
    "\n",
    "print(\"Lista prima della chiamata:\", my_list)\n",
    "\n",
    "modify_list(my_list)\n",
    "\n",
    "print(\"Lista dopo la chiamata:\", my_list)\n"
   ]
  },
  {
   "cell_type": "markdown",
   "metadata": {},
   "source": [
    "Come puoi vedere, la lista originale my_list è stata modificata dalla funzione, anche se non abbiamo esplicitamente restituito e riassegnato la lista.\n",
    "\n",
    "Ma attenzione! Non confondere il concetto di \"passaggio per riferimento\" con il comportamento di alcune tipologie di oggetti, come gli oggetti immutabili (es. tuple, stringhe). Quando si tenta di modificare un oggetto immutabile passato come argomento, la funzione lavorerà su una nuova copia di quell'oggetto, lasciando l'originale inalterato.\n",
    "\n",
    "Ecco un esempio con una stringa:"
   ]
  },
  {
   "cell_type": "code",
   "execution_count": null,
   "metadata": {},
   "outputs": [],
   "source": [
    "def modify_string(s):\n",
    "    s = \"world\"\n",
    "\n",
    "my_string = \"hello\"\n",
    "\n",
    "print(\"Stringa prima della chiamata:\", my_string)\n",
    "\n",
    "modify_string(my_string)\n",
    "\n",
    "print(\"Stringa dopo la chiamata:\", my_string)\n"
   ]
  },
  {
   "cell_type": "markdown",
   "metadata": {},
   "source": [
    "Anche se abbiamo tentato di modificare la stringa all'interno della funzione, la stringa originale è rimasta inalterata poiché le stringhe sono immutabili.\n",
    "\n",
    "### Tipi immutabili\n",
    "\n",
    "Questi sono i tipi che, una volta creati, non possono essere modificati. Se provi a modificarli all'interno di una funzione, il riferimento all'oggetto originale viene perso e il riferimento viene puntato a un nuovo oggetto.\n",
    "\n",
    "Esempi di tipi immutabili:\n",
    "\n",
    "- int \n",
    "- float\n",
    "- bool\n",
    "- str\n",
    "- tuple\n",
    "- frozenset\n",
    "\n",
    "Tipi mutabili: Questi sono gli oggetti che possono essere modificati. Quando li passi come argomenti a una funzione, puoi modificarli direttamente e le modifiche saranno riflettute sull'oggetto originale.\n",
    "\n",
    "Esempi di tipi mutabili:\n",
    "\n",
    "- list\n",
    "- dict\n",
    "- set\n",
    "\n",
    "La maggior parte degli oggetti definiti dalle classi (a meno che non siano specificamente progettati per essere immutabili)."
   ]
  }
 ],
 "metadata": {
  "kernelspec": {
   "display_name": "Python 3",
   "language": "python",
   "name": "python3"
  },
  "language_info": {
   "codemirror_mode": {
    "name": "ipython",
    "version": 3
   },
   "file_extension": ".py",
   "mimetype": "text/x-python",
   "name": "python",
   "nbconvert_exporter": "python",
   "pygments_lexer": "ipython3",
   "version": "3.9.17"
  },
  "orig_nbformat": 4
 },
 "nbformat": 4,
 "nbformat_minor": 2
}
