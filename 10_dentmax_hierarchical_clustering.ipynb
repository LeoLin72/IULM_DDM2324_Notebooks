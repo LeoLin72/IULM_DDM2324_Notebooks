{
 "cells": [
  {
   "cell_type": "markdown",
   "metadata": {},
   "source": [
    "[![Open In Colab](https://colab.research.google.com/assets/colab-badge.svg)](https://colab.research.google.com/github/alesaccoia/IULM_DDM2324_Notebooks/blob/main/10_dentmax_hierarchical_clustering.ipynb)"
   ]
  },
  {
   "cell_type": "markdown",
   "metadata": {},
   "source": [
    "# Capitolo 5: Dentmax, Exploratory Data Analysis"
   ]
  },
  {
   "cell_type": "code",
   "execution_count": null,
   "metadata": {},
   "outputs": [],
   "source": [
    "# Import necessary libraries\n",
    "import pandas as pd\n",
    "import matplotlib.pyplot as plt\n",
    "import seaborn as sns\n",
    "import numpy as np\n",
    "from scipy.stats import pearsonr\n",
    "\n",
    "# Read the data\n",
    "df = pd.read_excel(\"data/Capitolo5e6-DentMax.xlsx\")\n",
    "\n",
    "# Display the first few rows of the dataframe\n",
    "df.head()\n"
   ]
  },
  {
   "cell_type": "code",
   "execution_count": null,
   "metadata": {},
   "outputs": [],
   "source": [
    "df.info()"
   ]
  },
  {
   "cell_type": "code",
   "execution_count": null,
   "metadata": {},
   "outputs": [],
   "source": [
    "df.describe()"
   ]
  },
  {
   "cell_type": "markdown",
   "metadata": {},
   "source": [
    "Standardizzazione delle variabili"
   ]
  },
  {
   "cell_type": "code",
   "execution_count": null,
   "metadata": {},
   "outputs": [],
   "source": [
    "from scipy.cluster.hierarchy import dendrogram, linkage, fcluster\n",
    "from sklearn.preprocessing import StandardScaler\n",
    "scaler = StandardScaler()\n",
    "df_scaled = scaler.fit_transform(df.iloc[:, 1:])\n",
    "df_scaled"
   ]
  },
  {
   "cell_type": "code",
   "execution_count": null,
   "metadata": {},
   "outputs": [],
   "source": [
    "# Clustering gerarchico\n",
    "Z = linkage(df_scaled, method='ward', metric='euclidean')"
   ]
  },
  {
   "cell_type": "code",
   "execution_count": null,
   "metadata": {},
   "outputs": [],
   "source": [
    "# Visualizza il dendrogramma\n",
    "plt.figure(figsize=(12, 6))\n",
    "dendrogram(Z, p=10, truncate_mode='level')\n",
    "plt.xlabel('Nodi')\n",
    "plt.ylabel('Distanza')\n",
    "plt.show()"
   ]
  },
  {
   "cell_type": "markdown",
   "metadata": {},
   "source": [
    "# Decisione dell'altezza di \"taglio\"\n",
    "\n",
    "Dopo aver esaminato il dendrogramma, é possibile valre quali e quanti gruppi tenere. Anche se é difficile trovare l'altezza giusta dal grafico precedente, é possibile comunque chiedere al programma quanti cluster rimangono dopo aver \"tagliato\" il dendrogramma a una certa altezza. Proviamo con 75, per ottenere 4 cluster"
   ]
  },
  {
   "cell_type": "code",
   "execution_count": null,
   "metadata": {},
   "outputs": [],
   "source": [
    "threshold = 75"
   ]
  },
  {
   "cell_type": "code",
   "execution_count": null,
   "metadata": {},
   "outputs": [],
   "source": [
    "# Effettua il clustering in base all'altezza di taglio scelta\n",
    "clusters = fcluster(Z, t=threshold, criterion='distance')\n",
    "np.unique(clusters)"
   ]
  },
  {
   "cell_type": "markdown",
   "metadata": {},
   "source": [
    "75 pare un'altezza corretta e rileviamo 4 cluster (la variabile contiene gli ID ordinati, uno per osservazione)"
   ]
  },
  {
   "cell_type": "code",
   "execution_count": null,
   "metadata": {},
   "outputs": [],
   "source": [
    "clusters"
   ]
  },
  {
   "cell_type": "markdown",
   "metadata": {},
   "source": [
    "Aggiungiamo la colonna con l'ID del cluster al cluster originale, e non a quello normalizzato.\n",
    "In tal modo abbiamo operato su dati normalizzati, ma interpreteremo dati sulle loro scale reali"
   ]
  },
  {
   "cell_type": "code",
   "execution_count": null,
   "metadata": {},
   "outputs": [],
   "source": [
    "# Aggiungi la colonna dei cluster al DataFrame originale (non a quello normalizzato, in tal modo )\n",
    "df['Cluster'] = clusters"
   ]
  },
  {
   "cell_type": "code",
   "execution_count": null,
   "metadata": {},
   "outputs": [],
   "source": [
    "# Visualizza le differenze tra i cluster mediante boxplot\n",
    "plt.figure(figsize=(8, 6))\n",
    "sns.boxplot(x='Cluster', y='Historical Sales Index', data=df)\n",
    "plt.xlabel('Cluster')\n",
    "plt.ylabel('Valutazione')\n",
    "plt.show()\n"
   ]
  },
  {
   "cell_type": "markdown",
   "metadata": {},
   "source": [
    "## Proporzione per cluster"
   ]
  },
  {
   "cell_type": "code",
   "execution_count": null,
   "metadata": {},
   "outputs": [],
   "source": [
    "cluster_counts = df['Cluster'].value_counts()\n",
    "proportions = cluster_counts / df.shape[0]\n",
    "\n",
    "print(proportions)"
   ]
  },
  {
   "cell_type": "code",
   "execution_count": null,
   "metadata": {},
   "outputs": [],
   "source": [
    "# Calculate centroids for each cluster\n",
    "cluster_centroids = df.groupby('Cluster').mean().reset_index()\n",
    "print(cluster_centroids)\n",
    "\n"
   ]
  },
  {
   "cell_type": "markdown",
   "metadata": {},
   "source": [
    "## Trasposizione dei cluster per visualizzazione tabella"
   ]
  },
  {
   "cell_type": "code",
   "execution_count": null,
   "metadata": {},
   "outputs": [],
   "source": [
    "\n",
    "# Calculate centroids for each cluster\n",
    "cluster_centroids = cluster_centroids.round(2)\n",
    "\n",
    "# Transpose the matrix\n",
    "cluster_centroids_transposed = cluster_centroids.transpose()\n",
    "\n",
    "# Correct the column headers after transposition\n",
    "cluster_centroids_transposed.columns = cluster_centroids_transposed.iloc[0]\n",
    "cluster_centroids_transposed = cluster_centroids_transposed.drop('Cluster')\n",
    "cluster_centroids_transposed\n",
    "\n"
   ]
  },
  {
   "cell_type": "code",
   "execution_count": null,
   "metadata": {},
   "outputs": [],
   "source": [
    "cluster_centroids_transposed.to_csv('cluster_centroids_transposed.csv')"
   ]
  },
  {
   "cell_type": "markdown",
   "metadata": {},
   "source": [
    "## Visualizzazione con PCA"
   ]
  },
  {
   "cell_type": "code",
   "execution_count": null,
   "metadata": {},
   "outputs": [],
   "source": [
    "import seaborn as sns\n",
    "\n",
    "from sklearn.decomposition import PCA\n",
    "\n",
    "# Esegui PCA\n",
    "pca = PCA(n_components=2)\n",
    "df_pca = pca.fit_transform(df_scaled)\n",
    "\n",
    "# Set the style of the plot\n",
    "sns.set(style=\"whitegrid\")\n",
    "\n",
    "# Create a scatter plot of the PCA results with colors based on cluster ID\n",
    "plt.figure(figsize=(10, 6))\n",
    "sns.scatterplot(x=df_pca[:, 0], y=df_pca[:, 1], hue=df['Cluster'], palette='tab10', s=80)\n",
    "plt.xlabel('Principal Component 1')\n",
    "plt.ylabel('Principal Component 2')\n",
    "plt.legend(title='Cluster', loc='best', labels=['Cluster ' + str(i) for i in range(1, len(np.unique(clusters)) + 1)])\n",
    "plt.grid(False)\n",
    "plt.show()"
   ]
  }
 ],
 "metadata": {
  "kernelspec": {
   "display_name": "Python 3",
   "language": "python",
   "name": "python3"
  },
  "language_info": {
   "codemirror_mode": {
    "name": "ipython",
    "version": 3
   },
   "file_extension": ".py",
   "mimetype": "text/x-python",
   "name": "python",
   "nbconvert_exporter": "python",
   "pygments_lexer": "ipython3",
   "version": "3.9.17"
  },
  "orig_nbformat": 4
 },
 "nbformat": 4,
 "nbformat_minor": 2
}
